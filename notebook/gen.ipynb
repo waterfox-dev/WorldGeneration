{
 "cells": [
  {
   "attachments": {},
   "cell_type": "markdown",
   "metadata": {},
   "source": [
    "# Generation Notebook"
   ]
  },
  {
   "attachments": {},
   "cell_type": "markdown",
   "metadata": {},
   "source": [
    "## 2D Generation"
   ]
  },
  {
   "attachments": {},
   "cell_type": "markdown",
   "metadata": {},
   "source": [
    "### Utils functions"
   ]
  },
  {
   "cell_type": "code",
   "execution_count": 1,
   "metadata": {},
   "outputs": [],
   "source": [
    "from typing import TypedDict\n",
    "from ipythonblocks import BlockGrid, colors"
   ]
  },
  {
   "cell_type": "code",
   "execution_count": 68,
   "metadata": {},
   "outputs": [],
   "source": [
    "world = [\n",
    "    [0,0,1,0,0],\n",
    "    [0,1,1,0,0],\n",
    "    [1,1,1,1,0],\n",
    "    [0,0,1,1,0],\n",
    "    [0,0,0,1,0]\n",
    "    ]"
   ]
  },
  {
   "cell_type": "code",
   "execution_count": 77,
   "metadata": {},
   "outputs": [],
   "source": [
    "posset = set()"
   ]
  },
  {
   "cell_type": "code",
   "execution_count": 71,
   "metadata": {},
   "outputs": [],
   "source": [
    "def print_dict(d: dict) -> None:\n",
    "    for key, value in d.items():\n",
    "        print(f\"{key} : {value}\")"
   ]
  },
  {
   "cell_type": "code",
   "execution_count": 72,
   "metadata": {},
   "outputs": [],
   "source": [
    "def display_world(world: list[list[int]]) -> None:\n",
    "    grid = BlockGrid(width=len(world), height=len(world[0]), fill=colors['WhiteSmoke'], block_size=30)\n",
    "    \n",
    "    for x in range(len(world)):\n",
    "        for y in range(len(world[x])):\n",
    "            if world[x][y] == 1: \n",
    "                grid[x, y].set_colors(0,0,0)\n",
    "    \n",
    "    grid.show()"
   ]
  },
  {
   "cell_type": "code",
   "execution_count": 73,
   "metadata": {},
   "outputs": [
    {
     "data": {
      "text/html": [
       "<style type=\"text/css\">table.blockgrid {border: none;} .blockgrid tr {border: none;} .blockgrid td {padding: 0px;} #blocksfc30f63e-f23e-492e-80d0-5636d3cc50d9 td {border: 1px solid white;}</style><table id=\"blocksfc30f63e-f23e-492e-80d0-5636d3cc50d9\" class=\"blockgrid\"><tbody><tr><td title=\"Index: [0, 0]&#10;Color: (245, 245, 245)\" style=\"width: 30px; height: 30px;background-color: rgb(245, 245, 245);\"></td><td title=\"Index: [0, 1]&#10;Color: (245, 245, 245)\" style=\"width: 30px; height: 30px;background-color: rgb(245, 245, 245);\"></td><td title=\"Index: [0, 2]&#10;Color: (0, 0, 0)\" style=\"width: 30px; height: 30px;background-color: rgb(0, 0, 0);\"></td><td title=\"Index: [0, 3]&#10;Color: (245, 245, 245)\" style=\"width: 30px; height: 30px;background-color: rgb(245, 245, 245);\"></td><td title=\"Index: [0, 4]&#10;Color: (245, 245, 245)\" style=\"width: 30px; height: 30px;background-color: rgb(245, 245, 245);\"></td></tr><tr><td title=\"Index: [1, 0]&#10;Color: (245, 245, 245)\" style=\"width: 30px; height: 30px;background-color: rgb(245, 245, 245);\"></td><td title=\"Index: [1, 1]&#10;Color: (0, 0, 0)\" style=\"width: 30px; height: 30px;background-color: rgb(0, 0, 0);\"></td><td title=\"Index: [1, 2]&#10;Color: (0, 0, 0)\" style=\"width: 30px; height: 30px;background-color: rgb(0, 0, 0);\"></td><td title=\"Index: [1, 3]&#10;Color: (245, 245, 245)\" style=\"width: 30px; height: 30px;background-color: rgb(245, 245, 245);\"></td><td title=\"Index: [1, 4]&#10;Color: (245, 245, 245)\" style=\"width: 30px; height: 30px;background-color: rgb(245, 245, 245);\"></td></tr><tr><td title=\"Index: [2, 0]&#10;Color: (0, 0, 0)\" style=\"width: 30px; height: 30px;background-color: rgb(0, 0, 0);\"></td><td title=\"Index: [2, 1]&#10;Color: (0, 0, 0)\" style=\"width: 30px; height: 30px;background-color: rgb(0, 0, 0);\"></td><td title=\"Index: [2, 2]&#10;Color: (0, 0, 0)\" style=\"width: 30px; height: 30px;background-color: rgb(0, 0, 0);\"></td><td title=\"Index: [2, 3]&#10;Color: (0, 0, 0)\" style=\"width: 30px; height: 30px;background-color: rgb(0, 0, 0);\"></td><td title=\"Index: [2, 4]&#10;Color: (245, 245, 245)\" style=\"width: 30px; height: 30px;background-color: rgb(245, 245, 245);\"></td></tr><tr><td title=\"Index: [3, 0]&#10;Color: (245, 245, 245)\" style=\"width: 30px; height: 30px;background-color: rgb(245, 245, 245);\"></td><td title=\"Index: [3, 1]&#10;Color: (245, 245, 245)\" style=\"width: 30px; height: 30px;background-color: rgb(245, 245, 245);\"></td><td title=\"Index: [3, 2]&#10;Color: (0, 0, 0)\" style=\"width: 30px; height: 30px;background-color: rgb(0, 0, 0);\"></td><td title=\"Index: [3, 3]&#10;Color: (0, 0, 0)\" style=\"width: 30px; height: 30px;background-color: rgb(0, 0, 0);\"></td><td title=\"Index: [3, 4]&#10;Color: (245, 245, 245)\" style=\"width: 30px; height: 30px;background-color: rgb(245, 245, 245);\"></td></tr><tr><td title=\"Index: [4, 0]&#10;Color: (245, 245, 245)\" style=\"width: 30px; height: 30px;background-color: rgb(245, 245, 245);\"></td><td title=\"Index: [4, 1]&#10;Color: (245, 245, 245)\" style=\"width: 30px; height: 30px;background-color: rgb(245, 245, 245);\"></td><td title=\"Index: [4, 2]&#10;Color: (245, 245, 245)\" style=\"width: 30px; height: 30px;background-color: rgb(245, 245, 245);\"></td><td title=\"Index: [4, 3]&#10;Color: (0, 0, 0)\" style=\"width: 30px; height: 30px;background-color: rgb(0, 0, 0);\"></td><td title=\"Index: [4, 4]&#10;Color: (245, 245, 245)\" style=\"width: 30px; height: 30px;background-color: rgb(245, 245, 245);\"></td></tr></tbody></table>"
      ],
      "text/plain": [
       "<IPython.core.display.HTML object>"
      ]
     },
     "metadata": {},
     "output_type": "display_data"
    }
   ],
   "source": [
    "display_world(world)"
   ]
  },
  {
   "cell_type": "code",
   "execution_count": 79,
   "metadata": {},
   "outputs": [],
   "source": [
    "def get_close(world: list[list[int]], posset: set, pos: tuple[int], cell_type: int) -> set:\n",
    "        \n",
    "    for x in range(pos[0]-1, pos[0]+2):\n",
    "        if x == -1 or x == pos[0] or x >= len(world[0]):\n",
    "            pass\n",
    "        else : \n",
    "            if world[x][pos[1]] == cell_type  and (x,pos[1]) not in posset: \n",
    "                posset.add((x,pos[1]))\n",
    "                \n",
    "    for y in range(pos[1]-1, pos[1]+2):\n",
    "        if y == -1 or y == pos[1] or y >= len(world[0]):\n",
    "            pass \n",
    "        else : \n",
    "            if world[pos[0]][y] == cell_type and (pos[0],y) not in posset:\n",
    "                posset.add((pos[0],y))     \n",
    "                \n",
    "    return posset"
   ]
  },
  {
   "cell_type": "code",
   "execution_count": 82,
   "metadata": {},
   "outputs": [
    {
     "name": "stdout",
     "output_type": "stream",
     "text": [
      "10\n"
     ]
    }
   ],
   "source": [
    "def get_biome_size(world: list[list[int]], biome_id: int) -> tuple[set, int] : \n",
    "    for line in range(len(world)):\n",
    "        for column in range(len(world)): \n",
    "            get_close(world, posset, (line, column), 1)  \n",
    "    \n",
    "    return posset, len(posset)\n",
    "\n",
    "print(get_biome_size(world, 1)[1])"
   ]
  }
 ],
 "metadata": {
  "kernelspec": {
   "display_name": ".venv",
   "language": "python",
   "name": "python3"
  },
  "language_info": {
   "codemirror_mode": {
    "name": "ipython",
    "version": 3
   },
   "file_extension": ".py",
   "mimetype": "text/x-python",
   "name": "python",
   "nbconvert_exporter": "python",
   "pygments_lexer": "ipython3",
   "version": "3.10.4"
  },
  "orig_nbformat": 4,
  "vscode": {
   "interpreter": {
    "hash": "8c0e28b4584dbd74879fb7b563bb1153ad5c9cbd08080512edb6c05e5244a9c9"
   }
  }
 },
 "nbformat": 4,
 "nbformat_minor": 2
}
