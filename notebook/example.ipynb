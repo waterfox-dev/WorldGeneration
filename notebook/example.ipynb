{
 "cells": [
  {
   "cell_type": "code",
   "execution_count": 1,
   "metadata": {},
   "outputs": [],
   "source": [
    "import sys \n",
    "sys.path.insert(0, \"..\")\n",
    "\n",
    "from source.calculator import get_biome_size\n",
    "from source.utils import display_world"
   ]
  },
  {
   "cell_type": "code",
   "execution_count": 2,
   "metadata": {},
   "outputs": [],
   "source": [
    "world = [\n",
    "    [0,0,0,1,1,1,0,0,0],\n",
    "    [0,0,1,1,1,0,0,0,0],\n",
    "    [0,0,1,1,1,1,0,0,0],\n",
    "    [0,1,1,2,0,1,1,1,0],\n",
    "    [1,1,2,2,2,1,1,1,0],\n",
    "    [1,2,2,2,2,2,2,1,0],\n",
    "    [1,1,1,2,0,0,2,1,1],\n",
    "    [1,1,2,2,0,0,0,1,1],\n",
    "    [1,1,1,2,2,0,0,0,1]\n",
    "]"
   ]
  },
  {
   "cell_type": "code",
   "execution_count": 3,
   "metadata": {},
   "outputs": [
    {
     "data": {
      "text/html": [
       "<style type=\"text/css\">table.blockgrid {border: none;} .blockgrid tr {border: none;} .blockgrid td {padding: 0px;} #blocksc667ed2f-cb88-4b8f-99c9-c03169e8a0ab td {border: 1px solid white;}</style><table id=\"blocksc667ed2f-cb88-4b8f-99c9-c03169e8a0ab\" class=\"blockgrid\"><tbody><tr><td title=\"Index: [0, 0]&#10;Color: (245, 245, 245)\" style=\"width: 30px; height: 30px;background-color: rgb(245, 245, 245);\"></td><td title=\"Index: [0, 1]&#10;Color: (245, 245, 245)\" style=\"width: 30px; height: 30px;background-color: rgb(245, 245, 245);\"></td><td title=\"Index: [0, 2]&#10;Color: (245, 245, 245)\" style=\"width: 30px; height: 30px;background-color: rgb(245, 245, 245);\"></td><td title=\"Index: [0, 3]&#10;Color: (0, 0, 0)\" style=\"width: 30px; height: 30px;background-color: rgb(0, 0, 0);\"></td><td title=\"Index: [0, 4]&#10;Color: (0, 0, 0)\" style=\"width: 30px; height: 30px;background-color: rgb(0, 0, 0);\"></td><td title=\"Index: [0, 5]&#10;Color: (0, 0, 0)\" style=\"width: 30px; height: 30px;background-color: rgb(0, 0, 0);\"></td><td title=\"Index: [0, 6]&#10;Color: (245, 245, 245)\" style=\"width: 30px; height: 30px;background-color: rgb(245, 245, 245);\"></td><td title=\"Index: [0, 7]&#10;Color: (245, 245, 245)\" style=\"width: 30px; height: 30px;background-color: rgb(245, 245, 245);\"></td><td title=\"Index: [0, 8]&#10;Color: (245, 245, 245)\" style=\"width: 30px; height: 30px;background-color: rgb(245, 245, 245);\"></td></tr><tr><td title=\"Index: [1, 0]&#10;Color: (245, 245, 245)\" style=\"width: 30px; height: 30px;background-color: rgb(245, 245, 245);\"></td><td title=\"Index: [1, 1]&#10;Color: (245, 245, 245)\" style=\"width: 30px; height: 30px;background-color: rgb(245, 245, 245);\"></td><td title=\"Index: [1, 2]&#10;Color: (0, 0, 0)\" style=\"width: 30px; height: 30px;background-color: rgb(0, 0, 0);\"></td><td title=\"Index: [1, 3]&#10;Color: (0, 0, 0)\" style=\"width: 30px; height: 30px;background-color: rgb(0, 0, 0);\"></td><td title=\"Index: [1, 4]&#10;Color: (0, 0, 0)\" style=\"width: 30px; height: 30px;background-color: rgb(0, 0, 0);\"></td><td title=\"Index: [1, 5]&#10;Color: (245, 245, 245)\" style=\"width: 30px; height: 30px;background-color: rgb(245, 245, 245);\"></td><td title=\"Index: [1, 6]&#10;Color: (245, 245, 245)\" style=\"width: 30px; height: 30px;background-color: rgb(245, 245, 245);\"></td><td title=\"Index: [1, 7]&#10;Color: (245, 245, 245)\" style=\"width: 30px; height: 30px;background-color: rgb(245, 245, 245);\"></td><td title=\"Index: [1, 8]&#10;Color: (245, 245, 245)\" style=\"width: 30px; height: 30px;background-color: rgb(245, 245, 245);\"></td></tr><tr><td title=\"Index: [2, 0]&#10;Color: (245, 245, 245)\" style=\"width: 30px; height: 30px;background-color: rgb(245, 245, 245);\"></td><td title=\"Index: [2, 1]&#10;Color: (245, 245, 245)\" style=\"width: 30px; height: 30px;background-color: rgb(245, 245, 245);\"></td><td title=\"Index: [2, 2]&#10;Color: (0, 0, 0)\" style=\"width: 30px; height: 30px;background-color: rgb(0, 0, 0);\"></td><td title=\"Index: [2, 3]&#10;Color: (0, 0, 0)\" style=\"width: 30px; height: 30px;background-color: rgb(0, 0, 0);\"></td><td title=\"Index: [2, 4]&#10;Color: (0, 0, 0)\" style=\"width: 30px; height: 30px;background-color: rgb(0, 0, 0);\"></td><td title=\"Index: [2, 5]&#10;Color: (0, 0, 0)\" style=\"width: 30px; height: 30px;background-color: rgb(0, 0, 0);\"></td><td title=\"Index: [2, 6]&#10;Color: (245, 245, 245)\" style=\"width: 30px; height: 30px;background-color: rgb(245, 245, 245);\"></td><td title=\"Index: [2, 7]&#10;Color: (245, 245, 245)\" style=\"width: 30px; height: 30px;background-color: rgb(245, 245, 245);\"></td><td title=\"Index: [2, 8]&#10;Color: (245, 245, 245)\" style=\"width: 30px; height: 30px;background-color: rgb(245, 245, 245);\"></td></tr><tr><td title=\"Index: [3, 0]&#10;Color: (245, 245, 245)\" style=\"width: 30px; height: 30px;background-color: rgb(245, 245, 245);\"></td><td title=\"Index: [3, 1]&#10;Color: (0, 0, 0)\" style=\"width: 30px; height: 30px;background-color: rgb(0, 0, 0);\"></td><td title=\"Index: [3, 2]&#10;Color: (0, 0, 0)\" style=\"width: 30px; height: 30px;background-color: rgb(0, 0, 0);\"></td><td title=\"Index: [3, 3]&#10;Color: (0, 150, 64)\" style=\"width: 30px; height: 30px;background-color: rgb(0, 150, 64);\"></td><td title=\"Index: [3, 4]&#10;Color: (245, 245, 245)\" style=\"width: 30px; height: 30px;background-color: rgb(245, 245, 245);\"></td><td title=\"Index: [3, 5]&#10;Color: (0, 0, 0)\" style=\"width: 30px; height: 30px;background-color: rgb(0, 0, 0);\"></td><td title=\"Index: [3, 6]&#10;Color: (0, 0, 0)\" style=\"width: 30px; height: 30px;background-color: rgb(0, 0, 0);\"></td><td title=\"Index: [3, 7]&#10;Color: (0, 0, 0)\" style=\"width: 30px; height: 30px;background-color: rgb(0, 0, 0);\"></td><td title=\"Index: [3, 8]&#10;Color: (245, 245, 245)\" style=\"width: 30px; height: 30px;background-color: rgb(245, 245, 245);\"></td></tr><tr><td title=\"Index: [4, 0]&#10;Color: (0, 0, 0)\" style=\"width: 30px; height: 30px;background-color: rgb(0, 0, 0);\"></td><td title=\"Index: [4, 1]&#10;Color: (0, 0, 0)\" style=\"width: 30px; height: 30px;background-color: rgb(0, 0, 0);\"></td><td title=\"Index: [4, 2]&#10;Color: (0, 150, 64)\" style=\"width: 30px; height: 30px;background-color: rgb(0, 150, 64);\"></td><td title=\"Index: [4, 3]&#10;Color: (0, 150, 64)\" style=\"width: 30px; height: 30px;background-color: rgb(0, 150, 64);\"></td><td title=\"Index: [4, 4]&#10;Color: (0, 150, 64)\" style=\"width: 30px; height: 30px;background-color: rgb(0, 150, 64);\"></td><td title=\"Index: [4, 5]&#10;Color: (0, 0, 0)\" style=\"width: 30px; height: 30px;background-color: rgb(0, 0, 0);\"></td><td title=\"Index: [4, 6]&#10;Color: (0, 0, 0)\" style=\"width: 30px; height: 30px;background-color: rgb(0, 0, 0);\"></td><td title=\"Index: [4, 7]&#10;Color: (0, 0, 0)\" style=\"width: 30px; height: 30px;background-color: rgb(0, 0, 0);\"></td><td title=\"Index: [4, 8]&#10;Color: (245, 245, 245)\" style=\"width: 30px; height: 30px;background-color: rgb(245, 245, 245);\"></td></tr><tr><td title=\"Index: [5, 0]&#10;Color: (0, 0, 0)\" style=\"width: 30px; height: 30px;background-color: rgb(0, 0, 0);\"></td><td title=\"Index: [5, 1]&#10;Color: (0, 150, 64)\" style=\"width: 30px; height: 30px;background-color: rgb(0, 150, 64);\"></td><td title=\"Index: [5, 2]&#10;Color: (0, 150, 64)\" style=\"width: 30px; height: 30px;background-color: rgb(0, 150, 64);\"></td><td title=\"Index: [5, 3]&#10;Color: (0, 150, 64)\" style=\"width: 30px; height: 30px;background-color: rgb(0, 150, 64);\"></td><td title=\"Index: [5, 4]&#10;Color: (0, 150, 64)\" style=\"width: 30px; height: 30px;background-color: rgb(0, 150, 64);\"></td><td title=\"Index: [5, 5]&#10;Color: (0, 150, 64)\" style=\"width: 30px; height: 30px;background-color: rgb(0, 150, 64);\"></td><td title=\"Index: [5, 6]&#10;Color: (0, 150, 64)\" style=\"width: 30px; height: 30px;background-color: rgb(0, 150, 64);\"></td><td title=\"Index: [5, 7]&#10;Color: (0, 0, 0)\" style=\"width: 30px; height: 30px;background-color: rgb(0, 0, 0);\"></td><td title=\"Index: [5, 8]&#10;Color: (245, 245, 245)\" style=\"width: 30px; height: 30px;background-color: rgb(245, 245, 245);\"></td></tr><tr><td title=\"Index: [6, 0]&#10;Color: (0, 0, 0)\" style=\"width: 30px; height: 30px;background-color: rgb(0, 0, 0);\"></td><td title=\"Index: [6, 1]&#10;Color: (0, 0, 0)\" style=\"width: 30px; height: 30px;background-color: rgb(0, 0, 0);\"></td><td title=\"Index: [6, 2]&#10;Color: (0, 0, 0)\" style=\"width: 30px; height: 30px;background-color: rgb(0, 0, 0);\"></td><td title=\"Index: [6, 3]&#10;Color: (0, 150, 64)\" style=\"width: 30px; height: 30px;background-color: rgb(0, 150, 64);\"></td><td title=\"Index: [6, 4]&#10;Color: (245, 245, 245)\" style=\"width: 30px; height: 30px;background-color: rgb(245, 245, 245);\"></td><td title=\"Index: [6, 5]&#10;Color: (245, 245, 245)\" style=\"width: 30px; height: 30px;background-color: rgb(245, 245, 245);\"></td><td title=\"Index: [6, 6]&#10;Color: (0, 150, 64)\" style=\"width: 30px; height: 30px;background-color: rgb(0, 150, 64);\"></td><td title=\"Index: [6, 7]&#10;Color: (0, 0, 0)\" style=\"width: 30px; height: 30px;background-color: rgb(0, 0, 0);\"></td><td title=\"Index: [6, 8]&#10;Color: (0, 0, 0)\" style=\"width: 30px; height: 30px;background-color: rgb(0, 0, 0);\"></td></tr><tr><td title=\"Index: [7, 0]&#10;Color: (0, 0, 0)\" style=\"width: 30px; height: 30px;background-color: rgb(0, 0, 0);\"></td><td title=\"Index: [7, 1]&#10;Color: (0, 0, 0)\" style=\"width: 30px; height: 30px;background-color: rgb(0, 0, 0);\"></td><td title=\"Index: [7, 2]&#10;Color: (0, 150, 64)\" style=\"width: 30px; height: 30px;background-color: rgb(0, 150, 64);\"></td><td title=\"Index: [7, 3]&#10;Color: (0, 150, 64)\" style=\"width: 30px; height: 30px;background-color: rgb(0, 150, 64);\"></td><td title=\"Index: [7, 4]&#10;Color: (245, 245, 245)\" style=\"width: 30px; height: 30px;background-color: rgb(245, 245, 245);\"></td><td title=\"Index: [7, 5]&#10;Color: (245, 245, 245)\" style=\"width: 30px; height: 30px;background-color: rgb(245, 245, 245);\"></td><td title=\"Index: [7, 6]&#10;Color: (245, 245, 245)\" style=\"width: 30px; height: 30px;background-color: rgb(245, 245, 245);\"></td><td title=\"Index: [7, 7]&#10;Color: (0, 0, 0)\" style=\"width: 30px; height: 30px;background-color: rgb(0, 0, 0);\"></td><td title=\"Index: [7, 8]&#10;Color: (0, 0, 0)\" style=\"width: 30px; height: 30px;background-color: rgb(0, 0, 0);\"></td></tr><tr><td title=\"Index: [8, 0]&#10;Color: (0, 0, 0)\" style=\"width: 30px; height: 30px;background-color: rgb(0, 0, 0);\"></td><td title=\"Index: [8, 1]&#10;Color: (0, 0, 0)\" style=\"width: 30px; height: 30px;background-color: rgb(0, 0, 0);\"></td><td title=\"Index: [8, 2]&#10;Color: (0, 0, 0)\" style=\"width: 30px; height: 30px;background-color: rgb(0, 0, 0);\"></td><td title=\"Index: [8, 3]&#10;Color: (0, 150, 64)\" style=\"width: 30px; height: 30px;background-color: rgb(0, 150, 64);\"></td><td title=\"Index: [8, 4]&#10;Color: (0, 150, 64)\" style=\"width: 30px; height: 30px;background-color: rgb(0, 150, 64);\"></td><td title=\"Index: [8, 5]&#10;Color: (245, 245, 245)\" style=\"width: 30px; height: 30px;background-color: rgb(245, 245, 245);\"></td><td title=\"Index: [8, 6]&#10;Color: (245, 245, 245)\" style=\"width: 30px; height: 30px;background-color: rgb(245, 245, 245);\"></td><td title=\"Index: [8, 7]&#10;Color: (245, 245, 245)\" style=\"width: 30px; height: 30px;background-color: rgb(245, 245, 245);\"></td><td title=\"Index: [8, 8]&#10;Color: (0, 0, 0)\" style=\"width: 30px; height: 30px;background-color: rgb(0, 0, 0);\"></td></tr></tbody></table>"
      ],
      "text/plain": [
       "<IPython.core.display.HTML object>"
      ]
     },
     "metadata": {},
     "output_type": "display_data"
    }
   ],
   "source": [
    "display_world(world)"
   ]
  },
  {
   "cell_type": "code",
   "execution_count": 5,
   "metadata": {},
   "outputs": [
    {
     "name": "stdout",
     "output_type": "stream",
     "text": [
      "Size of the biome 0 : 30\n",
      "Size of the biome 1 : 35\n",
      "Size of the biome 2 : 16\n"
     ]
    }
   ],
   "source": [
    "size_0 = get_biome_size(world, 0)[1]\n",
    "size_1 = get_biome_size(world, 1)[1]\n",
    "size_2 = get_biome_size(world, 2)[1]\n",
    "\n",
    "print(\"Size of the biome 0 :\", size_0)\n",
    "print(\"Size of the biome 1 :\", size_1)\n",
    "print(\"Size of the biome 2 :\", size_2)\n",
    "\n",
    "assert size_0 + size_1 + size_2 == 81, \"Count fail\""
   ]
  }
 ],
 "metadata": {
  "kernelspec": {
   "display_name": ".venv",
   "language": "python",
   "name": "python3"
  },
  "language_info": {
   "codemirror_mode": {
    "name": "ipython",
    "version": 3
   },
   "file_extension": ".py",
   "mimetype": "text/x-python",
   "name": "python",
   "nbconvert_exporter": "python",
   "pygments_lexer": "ipython3",
   "version": "3.10.4"
  },
  "orig_nbformat": 4,
  "vscode": {
   "interpreter": {
    "hash": "8c0e28b4584dbd74879fb7b563bb1153ad5c9cbd08080512edb6c05e5244a9c9"
   }
  }
 },
 "nbformat": 4,
 "nbformat_minor": 2
}
