{
 "cells": [
  {
   "attachments": {},
   "cell_type": "markdown",
   "metadata": {},
   "source": [
    "# Generation Notebook"
   ]
  },
  {
   "attachments": {},
   "cell_type": "markdown",
   "metadata": {},
   "source": [
    "## 2D Generation"
   ]
  },
  {
   "attachments": {},
   "cell_type": "markdown",
   "metadata": {},
   "source": [
    "### Utils functions"
   ]
  },
  {
   "cell_type": "code",
   "execution_count": 20,
   "metadata": {},
   "outputs": [],
   "source": [
    "from typing import TypedDict"
   ]
  },
  {
   "cell_type": "code",
   "execution_count": 19,
   "metadata": {},
   "outputs": [],
   "source": [
    "world = [\n",
    "    [0,0,1,0,0],\n",
    "    [0,1,1,0,0],\n",
    "    [1,1,1,1,0],\n",
    "    [0,0,1,1,0],\n",
    "    [0,0,0,1,0]\n",
    "    ]"
   ]
  },
  {
   "cell_type": "code",
   "execution_count": 48,
   "metadata": {},
   "outputs": [],
   "source": [
    "posdict = dict()"
   ]
  },
  {
   "cell_type": "code",
   "execution_count": 51,
   "metadata": {},
   "outputs": [],
   "source": [
    "def print_dict(d: dict):\n",
    "    for key, value in d.items():\n",
    "        print(f\"{key} : {value}\")"
   ]
  },
  {
   "cell_type": "code",
   "execution_count": 53,
   "metadata": {},
   "outputs": [],
   "source": [
    "def get_close(world: list[list[int]], posdict: dict[tuple[int],list[tuple[int]]], pos: tuple[int], cell_type: int) -> dict[tuple[int],list[tuple[int]]]:\n",
    "    \n",
    "    posdict[pos] = []\n",
    "    \n",
    "    for x in range(pos[0]-1, pos[0]+2):\n",
    "        if x == -1 or x == pos[0] or x >= len(world[0]):\n",
    "            pass\n",
    "        else : \n",
    "            if world[x][pos[1]] == cell_type: \n",
    "                posdict[pos].append((x,pos[1]))\n",
    "                \n",
    "    for y in range(pos[1]-1, pos[1]+2):\n",
    "        if y == -1 or y == pos[1] or y >= len(world[0]):\n",
    "            pass \n",
    "        else : \n",
    "            if world[pos[0]][y] == cell_type: \n",
    "                posdict[pos].append((pos[0],y))    \n",
    "    \n",
    "    return posdict"
   ]
  },
  {
   "cell_type": "code",
   "execution_count": 56,
   "metadata": {},
   "outputs": [
    {
     "name": "stdout",
     "output_type": "stream",
     "text": [
      "(0, 0) : []\n",
      "(0, 1) : [(1, 1), (0, 2)]\n",
      "(0, 2) : [(1, 2)]\n",
      "(0, 3) : [(0, 2)]\n",
      "(0, 4) : []\n",
      "(1, 0) : [(2, 0), (1, 1)]\n",
      "(1, 1) : [(2, 1), (1, 2)]\n",
      "(1, 2) : [(0, 2), (2, 2), (1, 1)]\n",
      "(1, 3) : [(2, 3), (1, 2)]\n",
      "(1, 4) : []\n",
      "(2, 0) : [(2, 1)]\n",
      "(2, 1) : [(1, 1), (2, 0), (2, 2)]\n",
      "(2, 2) : [(1, 2), (3, 2), (2, 1), (2, 3)]\n",
      "(2, 3) : [(3, 3), (2, 2)]\n",
      "(2, 4) : [(2, 3)]\n",
      "(3, 0) : [(2, 0)]\n",
      "(3, 1) : [(2, 1), (3, 2)]\n",
      "(3, 2) : [(2, 2), (3, 3)]\n",
      "(3, 3) : [(2, 3), (4, 3), (3, 2)]\n",
      "(3, 4) : [(3, 3)]\n",
      "(4, 0) : []\n",
      "(4, 1) : []\n",
      "(4, 2) : [(3, 2), (4, 3)]\n",
      "(4, 3) : [(3, 3)]\n",
      "(4, 4) : [(4, 3)]\n"
     ]
    }
   ],
   "source": [
    "for line in range(len(world)):\n",
    "    for column in range(len(world)): \n",
    "        if (line, column) not in posdict.keys():\n",
    "            get_close(world, posdict, (line, column), 1)\n",
    "        \n",
    "print_dict(posdict)"
   ]
  },
  {
   "cell_type": "code",
   "execution_count": 5,
   "metadata": {},
   "outputs": [],
   "source": [
    "def get_biome_size(world: list[list[int]], biome_id: int) : \n",
    "    pass"
   ]
  }
 ],
 "metadata": {
  "kernelspec": {
   "display_name": ".venv",
   "language": "python",
   "name": "python3"
  },
  "language_info": {
   "codemirror_mode": {
    "name": "ipython",
    "version": 3
   },
   "file_extension": ".py",
   "mimetype": "text/x-python",
   "name": "python",
   "nbconvert_exporter": "python",
   "pygments_lexer": "ipython3",
   "version": "3.10.4"
  },
  "orig_nbformat": 4,
  "vscode": {
   "interpreter": {
    "hash": "8c0e28b4584dbd74879fb7b563bb1153ad5c9cbd08080512edb6c05e5244a9c9"
   }
  }
 },
 "nbformat": 4,
 "nbformat_minor": 2
}
