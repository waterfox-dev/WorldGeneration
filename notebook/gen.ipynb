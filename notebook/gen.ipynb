{
 "cells": [
  {
   "attachments": {},
   "cell_type": "markdown",
   "metadata": {},
   "source": [
    "# Generation Notebook"
   ]
  },
  {
   "attachments": {},
   "cell_type": "markdown",
   "metadata": {},
   "source": [
    "## 2D Generation"
   ]
  },
  {
   "attachments": {},
   "cell_type": "markdown",
   "metadata": {},
   "source": [
    "### Utils functions"
   ]
  },
  {
   "cell_type": "code",
   "execution_count": 19,
   "metadata": {},
   "outputs": [],
   "source": [
    "from typing import TypedDict\n",
    "from ipythonblocks import BlockGrid, colors\n",
    "from IPython.display import clear_output\n",
    "\n",
    "import time"
   ]
  },
  {
   "cell_type": "code",
   "execution_count": 3,
   "metadata": {},
   "outputs": [],
   "source": [
    "world = [\n",
    "    [0,0,1,0,0],\n",
    "    [0,1,1,0,0],\n",
    "    [1,1,1,1,0],\n",
    "    [0,0,1,1,0],\n",
    "    [0,0,0,1,0]\n",
    "    ]"
   ]
  },
  {
   "cell_type": "code",
   "execution_count": 4,
   "metadata": {},
   "outputs": [],
   "source": [
    "def print_dict(d: dict) -> None:\n",
    "    for key, value in d.items():\n",
    "        print(f\"{key} : {value}\")"
   ]
  },
  {
   "cell_type": "code",
   "execution_count": 5,
   "metadata": {},
   "outputs": [],
   "source": [
    "def display_world(world: list[list[int]]) -> None:\n",
    "    \n",
    "    clear_output()\n",
    "    grid = BlockGrid(width=len(world), height=len(world[0]), fill=colors['WhiteSmoke'], block_size=30)\n",
    "    \n",
    "    for x in range(len(world)):\n",
    "        for y in range(len(world[x])):\n",
    "            if world[x][y] == 1: \n",
    "                grid[x, y].set_colors(0,0,0)\n",
    "                            \n",
    "            if world[x][y] == 2: \n",
    "                grid[x, y].set_colors(0,150,64)\n",
    "    \n",
    "    grid.show()"
   ]
  },
  {
   "cell_type": "code",
   "execution_count": 6,
   "metadata": {},
   "outputs": [
    {
     "data": {
      "text/html": [
       "<style type=\"text/css\">table.blockgrid {border: none;} .blockgrid tr {border: none;} .blockgrid td {padding: 0px;} #blocks1c3788dd-c8de-4f78-a7be-59f562fddb90 td {border: 1px solid white;}</style><table id=\"blocks1c3788dd-c8de-4f78-a7be-59f562fddb90\" class=\"blockgrid\"><tbody><tr><td title=\"Index: [0, 0]&#10;Color: (245, 245, 245)\" style=\"width: 30px; height: 30px;background-color: rgb(245, 245, 245);\"></td><td title=\"Index: [0, 1]&#10;Color: (245, 245, 245)\" style=\"width: 30px; height: 30px;background-color: rgb(245, 245, 245);\"></td><td title=\"Index: [0, 2]&#10;Color: (0, 0, 0)\" style=\"width: 30px; height: 30px;background-color: rgb(0, 0, 0);\"></td><td title=\"Index: [0, 3]&#10;Color: (245, 245, 245)\" style=\"width: 30px; height: 30px;background-color: rgb(245, 245, 245);\"></td><td title=\"Index: [0, 4]&#10;Color: (245, 245, 245)\" style=\"width: 30px; height: 30px;background-color: rgb(245, 245, 245);\"></td></tr><tr><td title=\"Index: [1, 0]&#10;Color: (245, 245, 245)\" style=\"width: 30px; height: 30px;background-color: rgb(245, 245, 245);\"></td><td title=\"Index: [1, 1]&#10;Color: (0, 0, 0)\" style=\"width: 30px; height: 30px;background-color: rgb(0, 0, 0);\"></td><td title=\"Index: [1, 2]&#10;Color: (0, 0, 0)\" style=\"width: 30px; height: 30px;background-color: rgb(0, 0, 0);\"></td><td title=\"Index: [1, 3]&#10;Color: (245, 245, 245)\" style=\"width: 30px; height: 30px;background-color: rgb(245, 245, 245);\"></td><td title=\"Index: [1, 4]&#10;Color: (245, 245, 245)\" style=\"width: 30px; height: 30px;background-color: rgb(245, 245, 245);\"></td></tr><tr><td title=\"Index: [2, 0]&#10;Color: (0, 0, 0)\" style=\"width: 30px; height: 30px;background-color: rgb(0, 0, 0);\"></td><td title=\"Index: [2, 1]&#10;Color: (0, 0, 0)\" style=\"width: 30px; height: 30px;background-color: rgb(0, 0, 0);\"></td><td title=\"Index: [2, 2]&#10;Color: (0, 0, 0)\" style=\"width: 30px; height: 30px;background-color: rgb(0, 0, 0);\"></td><td title=\"Index: [2, 3]&#10;Color: (0, 0, 0)\" style=\"width: 30px; height: 30px;background-color: rgb(0, 0, 0);\"></td><td title=\"Index: [2, 4]&#10;Color: (245, 245, 245)\" style=\"width: 30px; height: 30px;background-color: rgb(245, 245, 245);\"></td></tr><tr><td title=\"Index: [3, 0]&#10;Color: (245, 245, 245)\" style=\"width: 30px; height: 30px;background-color: rgb(245, 245, 245);\"></td><td title=\"Index: [3, 1]&#10;Color: (245, 245, 245)\" style=\"width: 30px; height: 30px;background-color: rgb(245, 245, 245);\"></td><td title=\"Index: [3, 2]&#10;Color: (0, 0, 0)\" style=\"width: 30px; height: 30px;background-color: rgb(0, 0, 0);\"></td><td title=\"Index: [3, 3]&#10;Color: (0, 0, 0)\" style=\"width: 30px; height: 30px;background-color: rgb(0, 0, 0);\"></td><td title=\"Index: [3, 4]&#10;Color: (245, 245, 245)\" style=\"width: 30px; height: 30px;background-color: rgb(245, 245, 245);\"></td></tr><tr><td title=\"Index: [4, 0]&#10;Color: (245, 245, 245)\" style=\"width: 30px; height: 30px;background-color: rgb(245, 245, 245);\"></td><td title=\"Index: [4, 1]&#10;Color: (245, 245, 245)\" style=\"width: 30px; height: 30px;background-color: rgb(245, 245, 245);\"></td><td title=\"Index: [4, 2]&#10;Color: (245, 245, 245)\" style=\"width: 30px; height: 30px;background-color: rgb(245, 245, 245);\"></td><td title=\"Index: [4, 3]&#10;Color: (0, 0, 0)\" style=\"width: 30px; height: 30px;background-color: rgb(0, 0, 0);\"></td><td title=\"Index: [4, 4]&#10;Color: (245, 245, 245)\" style=\"width: 30px; height: 30px;background-color: rgb(245, 245, 245);\"></td></tr></tbody></table>"
      ],
      "text/plain": [
       "<IPython.core.display.HTML object>"
      ]
     },
     "metadata": {},
     "output_type": "display_data"
    }
   ],
   "source": [
    "display_world(world)"
   ]
  },
  {
   "cell_type": "code",
   "execution_count": 7,
   "metadata": {},
   "outputs": [],
   "source": [
    "def get_close(world: list[list[int]], posset: set, pos: tuple[int], cell_type: int) -> set:\n",
    "        \n",
    "    for x in range(pos[0]-1, pos[0]+2):\n",
    "        if x == -1 or x == pos[0] or x >= len(world[0]):\n",
    "            pass\n",
    "        else : \n",
    "            if world[x][pos[1]] == cell_type  and (x,pos[1]) not in posset: \n",
    "                posset.add((x,pos[1]))\n",
    "                \n",
    "    for y in range(pos[1]-1, pos[1]+2):\n",
    "        if y == -1 or y == pos[1] or y >= len(world[0]):\n",
    "            pass \n",
    "        else : \n",
    "            if world[pos[0]][y] == cell_type and (pos[0],y) not in posset:\n",
    "                posset.add((pos[0],y))     \n",
    "                \n",
    "    return posset"
   ]
  },
  {
   "cell_type": "code",
   "execution_count": 8,
   "metadata": {},
   "outputs": [],
   "source": [
    "def get_biome_size(world: list[list[int]], biome_id: int) -> tuple[set, int] : \n",
    "    \n",
    "    posset = set()\n",
    "    \n",
    "    for line in range(len(world)):\n",
    "        for column in range(len(world)): \n",
    "            get_close(world, posset, (line, column), biome_id)  \n",
    "    \n",
    "    return posset, len(posset)"
   ]
  },
  {
   "attachments": {},
   "cell_type": "markdown",
   "metadata": {},
   "source": [
    "### 2 Biomes generation"
   ]
  },
  {
   "cell_type": "code",
   "execution_count": 9,
   "metadata": {},
   "outputs": [],
   "source": [
    "import random"
   ]
  },
  {
   "cell_type": "code",
   "execution_count": 38,
   "metadata": {},
   "outputs": [],
   "source": [
    "preset = {\n",
    "    0 : {\n",
    "        0 : 40, \n",
    "        1 : 60,        \n",
    "    }, \n",
    "    1 : {\n",
    "        0 : 60, \n",
    "        1 : 40, \n",
    "    }\n",
    "}"
   ]
  },
  {
   "cell_type": "code",
   "execution_count": 39,
   "metadata": {},
   "outputs": [],
   "source": [
    "class Cell : \n",
    "    \n",
    "    def __init__(self, pos: tuple, biome: int) -> None: \n",
    "        self.pos = pos \n",
    "        self.biome = biome\n",
    "        self.influences = []\n",
    "    \n",
    "    def __repr__(self) -> str:\n",
    "        return f'[{self.pos[0]},{self.pos[1]}]'"
   ]
  },
  {
   "cell_type": "code",
   "execution_count": 40,
   "metadata": {},
   "outputs": [],
   "source": [
    "def generate_empty(size: int) -> list[list[Cell]] :\n",
    "    \n",
    "    world = list()\n",
    "    \n",
    "    for x in range(size): \n",
    "        world.append([])\n",
    "        for y in range(size):\n",
    "            world[x].append(Cell((x,y), 0))\n",
    "            \n",
    "    return world"
   ]
  },
  {
   "cell_type": "code",
   "execution_count": 41,
   "metadata": {},
   "outputs": [],
   "source": [
    "def analyse_neighbor(world: list[list[Cell]], pos: tuple[int]) -> None :\n",
    "\n",
    "    world[pos[0]][pos[1]].influences = []\n",
    "    \n",
    "    for x in range(pos[0]-2, pos[0]+3):\n",
    "        for y in range(pos[1]-2, pos[1]+3) :\n",
    "            if ((x,y) == pos) or ((x or y) <= -1) or (y >= (len(world[0]) - 1)) or ((x >= (len(world[0]) - 1))):\n",
    "                pass \n",
    "            else :\n",
    "                world[pos[0]][pos[1]].influences.append(world[x][y].biome)"
   ]
  },
  {
   "cell_type": "code",
   "execution_count": 42,
   "metadata": {},
   "outputs": [],
   "source": [
    "def set_biome(world: list[list[Cell]], pos: tuple[int]) -> None :\n",
    "    \n",
    "    l_prob = list()\n",
    "    \n",
    "    for element in world[pos[0]][pos[1]].influences :\n",
    "        \n",
    "        rm_list = []\n",
    "        for biome, prob in preset[element].items() :\n",
    "            rm_list.extend([biome]*prob)\n",
    "        \n",
    "        l_prob.append(random.choice(rm_list))\n",
    "        \n",
    "    world[pos[0]][pos[1]].biome = int(round(sum(l_prob)/len(l_prob), 0))"
   ]
  },
  {
   "cell_type": "code",
   "execution_count": 43,
   "metadata": {},
   "outputs": [],
   "source": [
    "def world_to_grid(world: list[list[Cell]]) -> None:\n",
    "    \n",
    "    l = list()\n",
    "    \n",
    "    for x in range(len(world)):\n",
    "        l.append([])\n",
    "        for y in range(len(world)):\n",
    "            l[x].append(world[x][y].biome)\n",
    "    \n",
    "    display_world(l)"
   ]
  },
  {
   "cell_type": "code",
   "execution_count": 48,
   "metadata": {},
   "outputs": [
    {
     "data": {
      "text/html": [
       "<style type=\"text/css\">table.blockgrid {border: none;} .blockgrid tr {border: none;} .blockgrid td {padding: 0px;} #blocks04d9d979-c4c5-431a-9dac-79b45ade1616 td {border: 1px solid white;}</style><table id=\"blocks04d9d979-c4c5-431a-9dac-79b45ade1616\" class=\"blockgrid\"><tbody><tr><td title=\"Index: [0, 0]&#10;Color: (245, 245, 245)\" style=\"width: 30px; height: 30px;background-color: rgb(245, 245, 245);\"></td><td title=\"Index: [0, 1]&#10;Color: (0, 0, 0)\" style=\"width: 30px; height: 30px;background-color: rgb(0, 0, 0);\"></td><td title=\"Index: [0, 2]&#10;Color: (0, 0, 0)\" style=\"width: 30px; height: 30px;background-color: rgb(0, 0, 0);\"></td><td title=\"Index: [0, 3]&#10;Color: (0, 0, 0)\" style=\"width: 30px; height: 30px;background-color: rgb(0, 0, 0);\"></td><td title=\"Index: [0, 4]&#10;Color: (0, 0, 0)\" style=\"width: 30px; height: 30px;background-color: rgb(0, 0, 0);\"></td><td title=\"Index: [0, 5]&#10;Color: (245, 245, 245)\" style=\"width: 30px; height: 30px;background-color: rgb(245, 245, 245);\"></td><td title=\"Index: [0, 6]&#10;Color: (0, 0, 0)\" style=\"width: 30px; height: 30px;background-color: rgb(0, 0, 0);\"></td><td title=\"Index: [0, 7]&#10;Color: (245, 245, 245)\" style=\"width: 30px; height: 30px;background-color: rgb(245, 245, 245);\"></td><td title=\"Index: [0, 8]&#10;Color: (0, 0, 0)\" style=\"width: 30px; height: 30px;background-color: rgb(0, 0, 0);\"></td><td title=\"Index: [0, 9]&#10;Color: (0, 0, 0)\" style=\"width: 30px; height: 30px;background-color: rgb(0, 0, 0);\"></td><td title=\"Index: [0, 10]&#10;Color: (245, 245, 245)\" style=\"width: 30px; height: 30px;background-color: rgb(245, 245, 245);\"></td><td title=\"Index: [0, 11]&#10;Color: (0, 0, 0)\" style=\"width: 30px; height: 30px;background-color: rgb(0, 0, 0);\"></td><td title=\"Index: [0, 12]&#10;Color: (0, 0, 0)\" style=\"width: 30px; height: 30px;background-color: rgb(0, 0, 0);\"></td><td title=\"Index: [0, 13]&#10;Color: (245, 245, 245)\" style=\"width: 30px; height: 30px;background-color: rgb(245, 245, 245);\"></td><td title=\"Index: [0, 14]&#10;Color: (245, 245, 245)\" style=\"width: 30px; height: 30px;background-color: rgb(245, 245, 245);\"></td><td title=\"Index: [0, 15]&#10;Color: (0, 0, 0)\" style=\"width: 30px; height: 30px;background-color: rgb(0, 0, 0);\"></td><td title=\"Index: [0, 16]&#10;Color: (0, 0, 0)\" style=\"width: 30px; height: 30px;background-color: rgb(0, 0, 0);\"></td><td title=\"Index: [0, 17]&#10;Color: (245, 245, 245)\" style=\"width: 30px; height: 30px;background-color: rgb(245, 245, 245);\"></td><td title=\"Index: [0, 18]&#10;Color: (245, 245, 245)\" style=\"width: 30px; height: 30px;background-color: rgb(245, 245, 245);\"></td><td title=\"Index: [0, 19]&#10;Color: (245, 245, 245)\" style=\"width: 30px; height: 30px;background-color: rgb(245, 245, 245);\"></td></tr><tr><td title=\"Index: [1, 0]&#10;Color: (0, 0, 0)\" style=\"width: 30px; height: 30px;background-color: rgb(0, 0, 0);\"></td><td title=\"Index: [1, 1]&#10;Color: (245, 245, 245)\" style=\"width: 30px; height: 30px;background-color: rgb(245, 245, 245);\"></td><td title=\"Index: [1, 2]&#10;Color: (0, 0, 0)\" style=\"width: 30px; height: 30px;background-color: rgb(0, 0, 0);\"></td><td title=\"Index: [1, 3]&#10;Color: (0, 0, 0)\" style=\"width: 30px; height: 30px;background-color: rgb(0, 0, 0);\"></td><td title=\"Index: [1, 4]&#10;Color: (0, 0, 0)\" style=\"width: 30px; height: 30px;background-color: rgb(0, 0, 0);\"></td><td title=\"Index: [1, 5]&#10;Color: (245, 245, 245)\" style=\"width: 30px; height: 30px;background-color: rgb(245, 245, 245);\"></td><td title=\"Index: [1, 6]&#10;Color: (0, 0, 0)\" style=\"width: 30px; height: 30px;background-color: rgb(0, 0, 0);\"></td><td title=\"Index: [1, 7]&#10;Color: (0, 0, 0)\" style=\"width: 30px; height: 30px;background-color: rgb(0, 0, 0);\"></td><td title=\"Index: [1, 8]&#10;Color: (0, 0, 0)\" style=\"width: 30px; height: 30px;background-color: rgb(0, 0, 0);\"></td><td title=\"Index: [1, 9]&#10;Color: (0, 0, 0)\" style=\"width: 30px; height: 30px;background-color: rgb(0, 0, 0);\"></td><td title=\"Index: [1, 10]&#10;Color: (245, 245, 245)\" style=\"width: 30px; height: 30px;background-color: rgb(245, 245, 245);\"></td><td title=\"Index: [1, 11]&#10;Color: (0, 0, 0)\" style=\"width: 30px; height: 30px;background-color: rgb(0, 0, 0);\"></td><td title=\"Index: [1, 12]&#10;Color: (245, 245, 245)\" style=\"width: 30px; height: 30px;background-color: rgb(245, 245, 245);\"></td><td title=\"Index: [1, 13]&#10;Color: (0, 0, 0)\" style=\"width: 30px; height: 30px;background-color: rgb(0, 0, 0);\"></td><td title=\"Index: [1, 14]&#10;Color: (245, 245, 245)\" style=\"width: 30px; height: 30px;background-color: rgb(245, 245, 245);\"></td><td title=\"Index: [1, 15]&#10;Color: (0, 0, 0)\" style=\"width: 30px; height: 30px;background-color: rgb(0, 0, 0);\"></td><td title=\"Index: [1, 16]&#10;Color: (0, 0, 0)\" style=\"width: 30px; height: 30px;background-color: rgb(0, 0, 0);\"></td><td title=\"Index: [1, 17]&#10;Color: (0, 0, 0)\" style=\"width: 30px; height: 30px;background-color: rgb(0, 0, 0);\"></td><td title=\"Index: [1, 18]&#10;Color: (245, 245, 245)\" style=\"width: 30px; height: 30px;background-color: rgb(245, 245, 245);\"></td><td title=\"Index: [1, 19]&#10;Color: (0, 0, 0)\" style=\"width: 30px; height: 30px;background-color: rgb(0, 0, 0);\"></td></tr><tr><td title=\"Index: [2, 0]&#10;Color: (0, 0, 0)\" style=\"width: 30px; height: 30px;background-color: rgb(0, 0, 0);\"></td><td title=\"Index: [2, 1]&#10;Color: (0, 0, 0)\" style=\"width: 30px; height: 30px;background-color: rgb(0, 0, 0);\"></td><td title=\"Index: [2, 2]&#10;Color: (245, 245, 245)\" style=\"width: 30px; height: 30px;background-color: rgb(245, 245, 245);\"></td><td title=\"Index: [2, 3]&#10;Color: (0, 0, 0)\" style=\"width: 30px; height: 30px;background-color: rgb(0, 0, 0);\"></td><td title=\"Index: [2, 4]&#10;Color: (245, 245, 245)\" style=\"width: 30px; height: 30px;background-color: rgb(245, 245, 245);\"></td><td title=\"Index: [2, 5]&#10;Color: (245, 245, 245)\" style=\"width: 30px; height: 30px;background-color: rgb(245, 245, 245);\"></td><td title=\"Index: [2, 6]&#10;Color: (245, 245, 245)\" style=\"width: 30px; height: 30px;background-color: rgb(245, 245, 245);\"></td><td title=\"Index: [2, 7]&#10;Color: (245, 245, 245)\" style=\"width: 30px; height: 30px;background-color: rgb(245, 245, 245);\"></td><td title=\"Index: [2, 8]&#10;Color: (0, 0, 0)\" style=\"width: 30px; height: 30px;background-color: rgb(0, 0, 0);\"></td><td title=\"Index: [2, 9]&#10;Color: (0, 0, 0)\" style=\"width: 30px; height: 30px;background-color: rgb(0, 0, 0);\"></td><td title=\"Index: [2, 10]&#10;Color: (0, 0, 0)\" style=\"width: 30px; height: 30px;background-color: rgb(0, 0, 0);\"></td><td title=\"Index: [2, 11]&#10;Color: (0, 0, 0)\" style=\"width: 30px; height: 30px;background-color: rgb(0, 0, 0);\"></td><td title=\"Index: [2, 12]&#10;Color: (0, 0, 0)\" style=\"width: 30px; height: 30px;background-color: rgb(0, 0, 0);\"></td><td title=\"Index: [2, 13]&#10;Color: (0, 0, 0)\" style=\"width: 30px; height: 30px;background-color: rgb(0, 0, 0);\"></td><td title=\"Index: [2, 14]&#10;Color: (0, 0, 0)\" style=\"width: 30px; height: 30px;background-color: rgb(0, 0, 0);\"></td><td title=\"Index: [2, 15]&#10;Color: (0, 0, 0)\" style=\"width: 30px; height: 30px;background-color: rgb(0, 0, 0);\"></td><td title=\"Index: [2, 16]&#10;Color: (0, 0, 0)\" style=\"width: 30px; height: 30px;background-color: rgb(0, 0, 0);\"></td><td title=\"Index: [2, 17]&#10;Color: (245, 245, 245)\" style=\"width: 30px; height: 30px;background-color: rgb(245, 245, 245);\"></td><td title=\"Index: [2, 18]&#10;Color: (245, 245, 245)\" style=\"width: 30px; height: 30px;background-color: rgb(245, 245, 245);\"></td><td title=\"Index: [2, 19]&#10;Color: (0, 0, 0)\" style=\"width: 30px; height: 30px;background-color: rgb(0, 0, 0);\"></td></tr><tr><td title=\"Index: [3, 0]&#10;Color: (0, 0, 0)\" style=\"width: 30px; height: 30px;background-color: rgb(0, 0, 0);\"></td><td title=\"Index: [3, 1]&#10;Color: (245, 245, 245)\" style=\"width: 30px; height: 30px;background-color: rgb(245, 245, 245);\"></td><td title=\"Index: [3, 2]&#10;Color: (245, 245, 245)\" style=\"width: 30px; height: 30px;background-color: rgb(245, 245, 245);\"></td><td title=\"Index: [3, 3]&#10;Color: (0, 0, 0)\" style=\"width: 30px; height: 30px;background-color: rgb(0, 0, 0);\"></td><td title=\"Index: [3, 4]&#10;Color: (0, 0, 0)\" style=\"width: 30px; height: 30px;background-color: rgb(0, 0, 0);\"></td><td title=\"Index: [3, 5]&#10;Color: (0, 0, 0)\" style=\"width: 30px; height: 30px;background-color: rgb(0, 0, 0);\"></td><td title=\"Index: [3, 6]&#10;Color: (245, 245, 245)\" style=\"width: 30px; height: 30px;background-color: rgb(245, 245, 245);\"></td><td title=\"Index: [3, 7]&#10;Color: (0, 0, 0)\" style=\"width: 30px; height: 30px;background-color: rgb(0, 0, 0);\"></td><td title=\"Index: [3, 8]&#10;Color: (245, 245, 245)\" style=\"width: 30px; height: 30px;background-color: rgb(245, 245, 245);\"></td><td title=\"Index: [3, 9]&#10;Color: (245, 245, 245)\" style=\"width: 30px; height: 30px;background-color: rgb(245, 245, 245);\"></td><td title=\"Index: [3, 10]&#10;Color: (0, 0, 0)\" style=\"width: 30px; height: 30px;background-color: rgb(0, 0, 0);\"></td><td title=\"Index: [3, 11]&#10;Color: (245, 245, 245)\" style=\"width: 30px; height: 30px;background-color: rgb(245, 245, 245);\"></td><td title=\"Index: [3, 12]&#10;Color: (0, 0, 0)\" style=\"width: 30px; height: 30px;background-color: rgb(0, 0, 0);\"></td><td title=\"Index: [3, 13]&#10;Color: (245, 245, 245)\" style=\"width: 30px; height: 30px;background-color: rgb(245, 245, 245);\"></td><td title=\"Index: [3, 14]&#10;Color: (245, 245, 245)\" style=\"width: 30px; height: 30px;background-color: rgb(245, 245, 245);\"></td><td title=\"Index: [3, 15]&#10;Color: (245, 245, 245)\" style=\"width: 30px; height: 30px;background-color: rgb(245, 245, 245);\"></td><td title=\"Index: [3, 16]&#10;Color: (0, 0, 0)\" style=\"width: 30px; height: 30px;background-color: rgb(0, 0, 0);\"></td><td title=\"Index: [3, 17]&#10;Color: (0, 0, 0)\" style=\"width: 30px; height: 30px;background-color: rgb(0, 0, 0);\"></td><td title=\"Index: [3, 18]&#10;Color: (0, 0, 0)\" style=\"width: 30px; height: 30px;background-color: rgb(0, 0, 0);\"></td><td title=\"Index: [3, 19]&#10;Color: (0, 0, 0)\" style=\"width: 30px; height: 30px;background-color: rgb(0, 0, 0);\"></td></tr><tr><td title=\"Index: [4, 0]&#10;Color: (0, 0, 0)\" style=\"width: 30px; height: 30px;background-color: rgb(0, 0, 0);\"></td><td title=\"Index: [4, 1]&#10;Color: (0, 0, 0)\" style=\"width: 30px; height: 30px;background-color: rgb(0, 0, 0);\"></td><td title=\"Index: [4, 2]&#10;Color: (245, 245, 245)\" style=\"width: 30px; height: 30px;background-color: rgb(245, 245, 245);\"></td><td title=\"Index: [4, 3]&#10;Color: (0, 0, 0)\" style=\"width: 30px; height: 30px;background-color: rgb(0, 0, 0);\"></td><td title=\"Index: [4, 4]&#10;Color: (0, 0, 0)\" style=\"width: 30px; height: 30px;background-color: rgb(0, 0, 0);\"></td><td title=\"Index: [4, 5]&#10;Color: (0, 0, 0)\" style=\"width: 30px; height: 30px;background-color: rgb(0, 0, 0);\"></td><td title=\"Index: [4, 6]&#10;Color: (0, 0, 0)\" style=\"width: 30px; height: 30px;background-color: rgb(0, 0, 0);\"></td><td title=\"Index: [4, 7]&#10;Color: (0, 0, 0)\" style=\"width: 30px; height: 30px;background-color: rgb(0, 0, 0);\"></td><td title=\"Index: [4, 8]&#10;Color: (0, 0, 0)\" style=\"width: 30px; height: 30px;background-color: rgb(0, 0, 0);\"></td><td title=\"Index: [4, 9]&#10;Color: (245, 245, 245)\" style=\"width: 30px; height: 30px;background-color: rgb(245, 245, 245);\"></td><td title=\"Index: [4, 10]&#10;Color: (245, 245, 245)\" style=\"width: 30px; height: 30px;background-color: rgb(245, 245, 245);\"></td><td title=\"Index: [4, 11]&#10;Color: (0, 0, 0)\" style=\"width: 30px; height: 30px;background-color: rgb(0, 0, 0);\"></td><td title=\"Index: [4, 12]&#10;Color: (245, 245, 245)\" style=\"width: 30px; height: 30px;background-color: rgb(245, 245, 245);\"></td><td title=\"Index: [4, 13]&#10;Color: (0, 0, 0)\" style=\"width: 30px; height: 30px;background-color: rgb(0, 0, 0);\"></td><td title=\"Index: [4, 14]&#10;Color: (0, 0, 0)\" style=\"width: 30px; height: 30px;background-color: rgb(0, 0, 0);\"></td><td title=\"Index: [4, 15]&#10;Color: (245, 245, 245)\" style=\"width: 30px; height: 30px;background-color: rgb(245, 245, 245);\"></td><td title=\"Index: [4, 16]&#10;Color: (245, 245, 245)\" style=\"width: 30px; height: 30px;background-color: rgb(245, 245, 245);\"></td><td title=\"Index: [4, 17]&#10;Color: (245, 245, 245)\" style=\"width: 30px; height: 30px;background-color: rgb(245, 245, 245);\"></td><td title=\"Index: [4, 18]&#10;Color: (245, 245, 245)\" style=\"width: 30px; height: 30px;background-color: rgb(245, 245, 245);\"></td><td title=\"Index: [4, 19]&#10;Color: (245, 245, 245)\" style=\"width: 30px; height: 30px;background-color: rgb(245, 245, 245);\"></td></tr><tr><td title=\"Index: [5, 0]&#10;Color: (0, 0, 0)\" style=\"width: 30px; height: 30px;background-color: rgb(0, 0, 0);\"></td><td title=\"Index: [5, 1]&#10;Color: (0, 0, 0)\" style=\"width: 30px; height: 30px;background-color: rgb(0, 0, 0);\"></td><td title=\"Index: [5, 2]&#10;Color: (0, 0, 0)\" style=\"width: 30px; height: 30px;background-color: rgb(0, 0, 0);\"></td><td title=\"Index: [5, 3]&#10;Color: (245, 245, 245)\" style=\"width: 30px; height: 30px;background-color: rgb(245, 245, 245);\"></td><td title=\"Index: [5, 4]&#10;Color: (245, 245, 245)\" style=\"width: 30px; height: 30px;background-color: rgb(245, 245, 245);\"></td><td title=\"Index: [5, 5]&#10;Color: (0, 0, 0)\" style=\"width: 30px; height: 30px;background-color: rgb(0, 0, 0);\"></td><td title=\"Index: [5, 6]&#10;Color: (0, 0, 0)\" style=\"width: 30px; height: 30px;background-color: rgb(0, 0, 0);\"></td><td title=\"Index: [5, 7]&#10;Color: (245, 245, 245)\" style=\"width: 30px; height: 30px;background-color: rgb(245, 245, 245);\"></td><td title=\"Index: [5, 8]&#10;Color: (0, 0, 0)\" style=\"width: 30px; height: 30px;background-color: rgb(0, 0, 0);\"></td><td title=\"Index: [5, 9]&#10;Color: (0, 0, 0)\" style=\"width: 30px; height: 30px;background-color: rgb(0, 0, 0);\"></td><td title=\"Index: [5, 10]&#10;Color: (0, 0, 0)\" style=\"width: 30px; height: 30px;background-color: rgb(0, 0, 0);\"></td><td title=\"Index: [5, 11]&#10;Color: (245, 245, 245)\" style=\"width: 30px; height: 30px;background-color: rgb(245, 245, 245);\"></td><td title=\"Index: [5, 12]&#10;Color: (0, 0, 0)\" style=\"width: 30px; height: 30px;background-color: rgb(0, 0, 0);\"></td><td title=\"Index: [5, 13]&#10;Color: (0, 0, 0)\" style=\"width: 30px; height: 30px;background-color: rgb(0, 0, 0);\"></td><td title=\"Index: [5, 14]&#10;Color: (245, 245, 245)\" style=\"width: 30px; height: 30px;background-color: rgb(245, 245, 245);\"></td><td title=\"Index: [5, 15]&#10;Color: (0, 0, 0)\" style=\"width: 30px; height: 30px;background-color: rgb(0, 0, 0);\"></td><td title=\"Index: [5, 16]&#10;Color: (245, 245, 245)\" style=\"width: 30px; height: 30px;background-color: rgb(245, 245, 245);\"></td><td title=\"Index: [5, 17]&#10;Color: (0, 0, 0)\" style=\"width: 30px; height: 30px;background-color: rgb(0, 0, 0);\"></td><td title=\"Index: [5, 18]&#10;Color: (0, 0, 0)\" style=\"width: 30px; height: 30px;background-color: rgb(0, 0, 0);\"></td><td title=\"Index: [5, 19]&#10;Color: (0, 0, 0)\" style=\"width: 30px; height: 30px;background-color: rgb(0, 0, 0);\"></td></tr><tr><td title=\"Index: [6, 0]&#10;Color: (245, 245, 245)\" style=\"width: 30px; height: 30px;background-color: rgb(245, 245, 245);\"></td><td title=\"Index: [6, 1]&#10;Color: (245, 245, 245)\" style=\"width: 30px; height: 30px;background-color: rgb(245, 245, 245);\"></td><td title=\"Index: [6, 2]&#10;Color: (245, 245, 245)\" style=\"width: 30px; height: 30px;background-color: rgb(245, 245, 245);\"></td><td title=\"Index: [6, 3]&#10;Color: (0, 0, 0)\" style=\"width: 30px; height: 30px;background-color: rgb(0, 0, 0);\"></td><td title=\"Index: [6, 4]&#10;Color: (0, 0, 0)\" style=\"width: 30px; height: 30px;background-color: rgb(0, 0, 0);\"></td><td title=\"Index: [6, 5]&#10;Color: (0, 0, 0)\" style=\"width: 30px; height: 30px;background-color: rgb(0, 0, 0);\"></td><td title=\"Index: [6, 6]&#10;Color: (0, 0, 0)\" style=\"width: 30px; height: 30px;background-color: rgb(0, 0, 0);\"></td><td title=\"Index: [6, 7]&#10;Color: (245, 245, 245)\" style=\"width: 30px; height: 30px;background-color: rgb(245, 245, 245);\"></td><td title=\"Index: [6, 8]&#10;Color: (0, 0, 0)\" style=\"width: 30px; height: 30px;background-color: rgb(0, 0, 0);\"></td><td title=\"Index: [6, 9]&#10;Color: (0, 0, 0)\" style=\"width: 30px; height: 30px;background-color: rgb(0, 0, 0);\"></td><td title=\"Index: [6, 10]&#10;Color: (245, 245, 245)\" style=\"width: 30px; height: 30px;background-color: rgb(245, 245, 245);\"></td><td title=\"Index: [6, 11]&#10;Color: (0, 0, 0)\" style=\"width: 30px; height: 30px;background-color: rgb(0, 0, 0);\"></td><td title=\"Index: [6, 12]&#10;Color: (0, 0, 0)\" style=\"width: 30px; height: 30px;background-color: rgb(0, 0, 0);\"></td><td title=\"Index: [6, 13]&#10;Color: (0, 0, 0)\" style=\"width: 30px; height: 30px;background-color: rgb(0, 0, 0);\"></td><td title=\"Index: [6, 14]&#10;Color: (0, 0, 0)\" style=\"width: 30px; height: 30px;background-color: rgb(0, 0, 0);\"></td><td title=\"Index: [6, 15]&#10;Color: (0, 0, 0)\" style=\"width: 30px; height: 30px;background-color: rgb(0, 0, 0);\"></td><td title=\"Index: [6, 16]&#10;Color: (0, 0, 0)\" style=\"width: 30px; height: 30px;background-color: rgb(0, 0, 0);\"></td><td title=\"Index: [6, 17]&#10;Color: (0, 0, 0)\" style=\"width: 30px; height: 30px;background-color: rgb(0, 0, 0);\"></td><td title=\"Index: [6, 18]&#10;Color: (245, 245, 245)\" style=\"width: 30px; height: 30px;background-color: rgb(245, 245, 245);\"></td><td title=\"Index: [6, 19]&#10;Color: (0, 0, 0)\" style=\"width: 30px; height: 30px;background-color: rgb(0, 0, 0);\"></td></tr><tr><td title=\"Index: [7, 0]&#10;Color: (0, 0, 0)\" style=\"width: 30px; height: 30px;background-color: rgb(0, 0, 0);\"></td><td title=\"Index: [7, 1]&#10;Color: (0, 0, 0)\" style=\"width: 30px; height: 30px;background-color: rgb(0, 0, 0);\"></td><td title=\"Index: [7, 2]&#10;Color: (0, 0, 0)\" style=\"width: 30px; height: 30px;background-color: rgb(0, 0, 0);\"></td><td title=\"Index: [7, 3]&#10;Color: (0, 0, 0)\" style=\"width: 30px; height: 30px;background-color: rgb(0, 0, 0);\"></td><td title=\"Index: [7, 4]&#10;Color: (245, 245, 245)\" style=\"width: 30px; height: 30px;background-color: rgb(245, 245, 245);\"></td><td title=\"Index: [7, 5]&#10;Color: (245, 245, 245)\" style=\"width: 30px; height: 30px;background-color: rgb(245, 245, 245);\"></td><td title=\"Index: [7, 6]&#10;Color: (245, 245, 245)\" style=\"width: 30px; height: 30px;background-color: rgb(245, 245, 245);\"></td><td title=\"Index: [7, 7]&#10;Color: (245, 245, 245)\" style=\"width: 30px; height: 30px;background-color: rgb(245, 245, 245);\"></td><td title=\"Index: [7, 8]&#10;Color: (0, 0, 0)\" style=\"width: 30px; height: 30px;background-color: rgb(0, 0, 0);\"></td><td title=\"Index: [7, 9]&#10;Color: (245, 245, 245)\" style=\"width: 30px; height: 30px;background-color: rgb(245, 245, 245);\"></td><td title=\"Index: [7, 10]&#10;Color: (245, 245, 245)\" style=\"width: 30px; height: 30px;background-color: rgb(245, 245, 245);\"></td><td title=\"Index: [7, 11]&#10;Color: (0, 0, 0)\" style=\"width: 30px; height: 30px;background-color: rgb(0, 0, 0);\"></td><td title=\"Index: [7, 12]&#10;Color: (0, 0, 0)\" style=\"width: 30px; height: 30px;background-color: rgb(0, 0, 0);\"></td><td title=\"Index: [7, 13]&#10;Color: (245, 245, 245)\" style=\"width: 30px; height: 30px;background-color: rgb(245, 245, 245);\"></td><td title=\"Index: [7, 14]&#10;Color: (0, 0, 0)\" style=\"width: 30px; height: 30px;background-color: rgb(0, 0, 0);\"></td><td title=\"Index: [7, 15]&#10;Color: (245, 245, 245)\" style=\"width: 30px; height: 30px;background-color: rgb(245, 245, 245);\"></td><td title=\"Index: [7, 16]&#10;Color: (0, 0, 0)\" style=\"width: 30px; height: 30px;background-color: rgb(0, 0, 0);\"></td><td title=\"Index: [7, 17]&#10;Color: (245, 245, 245)\" style=\"width: 30px; height: 30px;background-color: rgb(245, 245, 245);\"></td><td title=\"Index: [7, 18]&#10;Color: (245, 245, 245)\" style=\"width: 30px; height: 30px;background-color: rgb(245, 245, 245);\"></td><td title=\"Index: [7, 19]&#10;Color: (0, 0, 0)\" style=\"width: 30px; height: 30px;background-color: rgb(0, 0, 0);\"></td></tr><tr><td title=\"Index: [8, 0]&#10;Color: (0, 0, 0)\" style=\"width: 30px; height: 30px;background-color: rgb(0, 0, 0);\"></td><td title=\"Index: [8, 1]&#10;Color: (245, 245, 245)\" style=\"width: 30px; height: 30px;background-color: rgb(245, 245, 245);\"></td><td title=\"Index: [8, 2]&#10;Color: (245, 245, 245)\" style=\"width: 30px; height: 30px;background-color: rgb(245, 245, 245);\"></td><td title=\"Index: [8, 3]&#10;Color: (245, 245, 245)\" style=\"width: 30px; height: 30px;background-color: rgb(245, 245, 245);\"></td><td title=\"Index: [8, 4]&#10;Color: (0, 0, 0)\" style=\"width: 30px; height: 30px;background-color: rgb(0, 0, 0);\"></td><td title=\"Index: [8, 5]&#10;Color: (0, 0, 0)\" style=\"width: 30px; height: 30px;background-color: rgb(0, 0, 0);\"></td><td title=\"Index: [8, 6]&#10;Color: (245, 245, 245)\" style=\"width: 30px; height: 30px;background-color: rgb(245, 245, 245);\"></td><td title=\"Index: [8, 7]&#10;Color: (245, 245, 245)\" style=\"width: 30px; height: 30px;background-color: rgb(245, 245, 245);\"></td><td title=\"Index: [8, 8]&#10;Color: (245, 245, 245)\" style=\"width: 30px; height: 30px;background-color: rgb(245, 245, 245);\"></td><td title=\"Index: [8, 9]&#10;Color: (0, 0, 0)\" style=\"width: 30px; height: 30px;background-color: rgb(0, 0, 0);\"></td><td title=\"Index: [8, 10]&#10;Color: (245, 245, 245)\" style=\"width: 30px; height: 30px;background-color: rgb(245, 245, 245);\"></td><td title=\"Index: [8, 11]&#10;Color: (0, 0, 0)\" style=\"width: 30px; height: 30px;background-color: rgb(0, 0, 0);\"></td><td title=\"Index: [8, 12]&#10;Color: (245, 245, 245)\" style=\"width: 30px; height: 30px;background-color: rgb(245, 245, 245);\"></td><td title=\"Index: [8, 13]&#10;Color: (245, 245, 245)\" style=\"width: 30px; height: 30px;background-color: rgb(245, 245, 245);\"></td><td title=\"Index: [8, 14]&#10;Color: (245, 245, 245)\" style=\"width: 30px; height: 30px;background-color: rgb(245, 245, 245);\"></td><td title=\"Index: [8, 15]&#10;Color: (245, 245, 245)\" style=\"width: 30px; height: 30px;background-color: rgb(245, 245, 245);\"></td><td title=\"Index: [8, 16]&#10;Color: (0, 0, 0)\" style=\"width: 30px; height: 30px;background-color: rgb(0, 0, 0);\"></td><td title=\"Index: [8, 17]&#10;Color: (0, 0, 0)\" style=\"width: 30px; height: 30px;background-color: rgb(0, 0, 0);\"></td><td title=\"Index: [8, 18]&#10;Color: (245, 245, 245)\" style=\"width: 30px; height: 30px;background-color: rgb(245, 245, 245);\"></td><td title=\"Index: [8, 19]&#10;Color: (245, 245, 245)\" style=\"width: 30px; height: 30px;background-color: rgb(245, 245, 245);\"></td></tr><tr><td title=\"Index: [9, 0]&#10;Color: (0, 0, 0)\" style=\"width: 30px; height: 30px;background-color: rgb(0, 0, 0);\"></td><td title=\"Index: [9, 1]&#10;Color: (245, 245, 245)\" style=\"width: 30px; height: 30px;background-color: rgb(245, 245, 245);\"></td><td title=\"Index: [9, 2]&#10;Color: (0, 0, 0)\" style=\"width: 30px; height: 30px;background-color: rgb(0, 0, 0);\"></td><td title=\"Index: [9, 3]&#10;Color: (0, 0, 0)\" style=\"width: 30px; height: 30px;background-color: rgb(0, 0, 0);\"></td><td title=\"Index: [9, 4]&#10;Color: (0, 0, 0)\" style=\"width: 30px; height: 30px;background-color: rgb(0, 0, 0);\"></td><td title=\"Index: [9, 5]&#10;Color: (245, 245, 245)\" style=\"width: 30px; height: 30px;background-color: rgb(245, 245, 245);\"></td><td title=\"Index: [9, 6]&#10;Color: (0, 0, 0)\" style=\"width: 30px; height: 30px;background-color: rgb(0, 0, 0);\"></td><td title=\"Index: [9, 7]&#10;Color: (0, 0, 0)\" style=\"width: 30px; height: 30px;background-color: rgb(0, 0, 0);\"></td><td title=\"Index: [9, 8]&#10;Color: (0, 0, 0)\" style=\"width: 30px; height: 30px;background-color: rgb(0, 0, 0);\"></td><td title=\"Index: [9, 9]&#10;Color: (0, 0, 0)\" style=\"width: 30px; height: 30px;background-color: rgb(0, 0, 0);\"></td><td title=\"Index: [9, 10]&#10;Color: (245, 245, 245)\" style=\"width: 30px; height: 30px;background-color: rgb(245, 245, 245);\"></td><td title=\"Index: [9, 11]&#10;Color: (0, 0, 0)\" style=\"width: 30px; height: 30px;background-color: rgb(0, 0, 0);\"></td><td title=\"Index: [9, 12]&#10;Color: (245, 245, 245)\" style=\"width: 30px; height: 30px;background-color: rgb(245, 245, 245);\"></td><td title=\"Index: [9, 13]&#10;Color: (245, 245, 245)\" style=\"width: 30px; height: 30px;background-color: rgb(245, 245, 245);\"></td><td title=\"Index: [9, 14]&#10;Color: (245, 245, 245)\" style=\"width: 30px; height: 30px;background-color: rgb(245, 245, 245);\"></td><td title=\"Index: [9, 15]&#10;Color: (245, 245, 245)\" style=\"width: 30px; height: 30px;background-color: rgb(245, 245, 245);\"></td><td title=\"Index: [9, 16]&#10;Color: (245, 245, 245)\" style=\"width: 30px; height: 30px;background-color: rgb(245, 245, 245);\"></td><td title=\"Index: [9, 17]&#10;Color: (245, 245, 245)\" style=\"width: 30px; height: 30px;background-color: rgb(245, 245, 245);\"></td><td title=\"Index: [9, 18]&#10;Color: (245, 245, 245)\" style=\"width: 30px; height: 30px;background-color: rgb(245, 245, 245);\"></td><td title=\"Index: [9, 19]&#10;Color: (245, 245, 245)\" style=\"width: 30px; height: 30px;background-color: rgb(245, 245, 245);\"></td></tr><tr><td title=\"Index: [10, 0]&#10;Color: (0, 0, 0)\" style=\"width: 30px; height: 30px;background-color: rgb(0, 0, 0);\"></td><td title=\"Index: [10, 1]&#10;Color: (0, 0, 0)\" style=\"width: 30px; height: 30px;background-color: rgb(0, 0, 0);\"></td><td title=\"Index: [10, 2]&#10;Color: (245, 245, 245)\" style=\"width: 30px; height: 30px;background-color: rgb(245, 245, 245);\"></td><td title=\"Index: [10, 3]&#10;Color: (0, 0, 0)\" style=\"width: 30px; height: 30px;background-color: rgb(0, 0, 0);\"></td><td title=\"Index: [10, 4]&#10;Color: (0, 0, 0)\" style=\"width: 30px; height: 30px;background-color: rgb(0, 0, 0);\"></td><td title=\"Index: [10, 5]&#10;Color: (245, 245, 245)\" style=\"width: 30px; height: 30px;background-color: rgb(245, 245, 245);\"></td><td title=\"Index: [10, 6]&#10;Color: (245, 245, 245)\" style=\"width: 30px; height: 30px;background-color: rgb(245, 245, 245);\"></td><td title=\"Index: [10, 7]&#10;Color: (0, 0, 0)\" style=\"width: 30px; height: 30px;background-color: rgb(0, 0, 0);\"></td><td title=\"Index: [10, 8]&#10;Color: (0, 0, 0)\" style=\"width: 30px; height: 30px;background-color: rgb(0, 0, 0);\"></td><td title=\"Index: [10, 9]&#10;Color: (245, 245, 245)\" style=\"width: 30px; height: 30px;background-color: rgb(245, 245, 245);\"></td><td title=\"Index: [10, 10]&#10;Color: (245, 245, 245)\" style=\"width: 30px; height: 30px;background-color: rgb(245, 245, 245);\"></td><td title=\"Index: [10, 11]&#10;Color: (245, 245, 245)\" style=\"width: 30px; height: 30px;background-color: rgb(245, 245, 245);\"></td><td title=\"Index: [10, 12]&#10;Color: (0, 0, 0)\" style=\"width: 30px; height: 30px;background-color: rgb(0, 0, 0);\"></td><td title=\"Index: [10, 13]&#10;Color: (0, 0, 0)\" style=\"width: 30px; height: 30px;background-color: rgb(0, 0, 0);\"></td><td title=\"Index: [10, 14]&#10;Color: (0, 0, 0)\" style=\"width: 30px; height: 30px;background-color: rgb(0, 0, 0);\"></td><td title=\"Index: [10, 15]&#10;Color: (0, 0, 0)\" style=\"width: 30px; height: 30px;background-color: rgb(0, 0, 0);\"></td><td title=\"Index: [10, 16]&#10;Color: (245, 245, 245)\" style=\"width: 30px; height: 30px;background-color: rgb(245, 245, 245);\"></td><td title=\"Index: [10, 17]&#10;Color: (0, 0, 0)\" style=\"width: 30px; height: 30px;background-color: rgb(0, 0, 0);\"></td><td title=\"Index: [10, 18]&#10;Color: (0, 0, 0)\" style=\"width: 30px; height: 30px;background-color: rgb(0, 0, 0);\"></td><td title=\"Index: [10, 19]&#10;Color: (0, 0, 0)\" style=\"width: 30px; height: 30px;background-color: rgb(0, 0, 0);\"></td></tr><tr><td title=\"Index: [11, 0]&#10;Color: (0, 0, 0)\" style=\"width: 30px; height: 30px;background-color: rgb(0, 0, 0);\"></td><td title=\"Index: [11, 1]&#10;Color: (0, 0, 0)\" style=\"width: 30px; height: 30px;background-color: rgb(0, 0, 0);\"></td><td title=\"Index: [11, 2]&#10;Color: (245, 245, 245)\" style=\"width: 30px; height: 30px;background-color: rgb(245, 245, 245);\"></td><td title=\"Index: [11, 3]&#10;Color: (0, 0, 0)\" style=\"width: 30px; height: 30px;background-color: rgb(0, 0, 0);\"></td><td title=\"Index: [11, 4]&#10;Color: (0, 0, 0)\" style=\"width: 30px; height: 30px;background-color: rgb(0, 0, 0);\"></td><td title=\"Index: [11, 5]&#10;Color: (245, 245, 245)\" style=\"width: 30px; height: 30px;background-color: rgb(245, 245, 245);\"></td><td title=\"Index: [11, 6]&#10;Color: (0, 0, 0)\" style=\"width: 30px; height: 30px;background-color: rgb(0, 0, 0);\"></td><td title=\"Index: [11, 7]&#10;Color: (0, 0, 0)\" style=\"width: 30px; height: 30px;background-color: rgb(0, 0, 0);\"></td><td title=\"Index: [11, 8]&#10;Color: (0, 0, 0)\" style=\"width: 30px; height: 30px;background-color: rgb(0, 0, 0);\"></td><td title=\"Index: [11, 9]&#10;Color: (0, 0, 0)\" style=\"width: 30px; height: 30px;background-color: rgb(0, 0, 0);\"></td><td title=\"Index: [11, 10]&#10;Color: (0, 0, 0)\" style=\"width: 30px; height: 30px;background-color: rgb(0, 0, 0);\"></td><td title=\"Index: [11, 11]&#10;Color: (0, 0, 0)\" style=\"width: 30px; height: 30px;background-color: rgb(0, 0, 0);\"></td><td title=\"Index: [11, 12]&#10;Color: (245, 245, 245)\" style=\"width: 30px; height: 30px;background-color: rgb(245, 245, 245);\"></td><td title=\"Index: [11, 13]&#10;Color: (0, 0, 0)\" style=\"width: 30px; height: 30px;background-color: rgb(0, 0, 0);\"></td><td title=\"Index: [11, 14]&#10;Color: (0, 0, 0)\" style=\"width: 30px; height: 30px;background-color: rgb(0, 0, 0);\"></td><td title=\"Index: [11, 15]&#10;Color: (0, 0, 0)\" style=\"width: 30px; height: 30px;background-color: rgb(0, 0, 0);\"></td><td title=\"Index: [11, 16]&#10;Color: (245, 245, 245)\" style=\"width: 30px; height: 30px;background-color: rgb(245, 245, 245);\"></td><td title=\"Index: [11, 17]&#10;Color: (0, 0, 0)\" style=\"width: 30px; height: 30px;background-color: rgb(0, 0, 0);\"></td><td title=\"Index: [11, 18]&#10;Color: (0, 0, 0)\" style=\"width: 30px; height: 30px;background-color: rgb(0, 0, 0);\"></td><td title=\"Index: [11, 19]&#10;Color: (245, 245, 245)\" style=\"width: 30px; height: 30px;background-color: rgb(245, 245, 245);\"></td></tr><tr><td title=\"Index: [12, 0]&#10;Color: (0, 0, 0)\" style=\"width: 30px; height: 30px;background-color: rgb(0, 0, 0);\"></td><td title=\"Index: [12, 1]&#10;Color: (0, 0, 0)\" style=\"width: 30px; height: 30px;background-color: rgb(0, 0, 0);\"></td><td title=\"Index: [12, 2]&#10;Color: (245, 245, 245)\" style=\"width: 30px; height: 30px;background-color: rgb(245, 245, 245);\"></td><td title=\"Index: [12, 3]&#10;Color: (0, 0, 0)\" style=\"width: 30px; height: 30px;background-color: rgb(0, 0, 0);\"></td><td title=\"Index: [12, 4]&#10;Color: (245, 245, 245)\" style=\"width: 30px; height: 30px;background-color: rgb(245, 245, 245);\"></td><td title=\"Index: [12, 5]&#10;Color: (0, 0, 0)\" style=\"width: 30px; height: 30px;background-color: rgb(0, 0, 0);\"></td><td title=\"Index: [12, 6]&#10;Color: (0, 0, 0)\" style=\"width: 30px; height: 30px;background-color: rgb(0, 0, 0);\"></td><td title=\"Index: [12, 7]&#10;Color: (0, 0, 0)\" style=\"width: 30px; height: 30px;background-color: rgb(0, 0, 0);\"></td><td title=\"Index: [12, 8]&#10;Color: (0, 0, 0)\" style=\"width: 30px; height: 30px;background-color: rgb(0, 0, 0);\"></td><td title=\"Index: [12, 9]&#10;Color: (245, 245, 245)\" style=\"width: 30px; height: 30px;background-color: rgb(245, 245, 245);\"></td><td title=\"Index: [12, 10]&#10;Color: (245, 245, 245)\" style=\"width: 30px; height: 30px;background-color: rgb(245, 245, 245);\"></td><td title=\"Index: [12, 11]&#10;Color: (245, 245, 245)\" style=\"width: 30px; height: 30px;background-color: rgb(245, 245, 245);\"></td><td title=\"Index: [12, 12]&#10;Color: (245, 245, 245)\" style=\"width: 30px; height: 30px;background-color: rgb(245, 245, 245);\"></td><td title=\"Index: [12, 13]&#10;Color: (245, 245, 245)\" style=\"width: 30px; height: 30px;background-color: rgb(245, 245, 245);\"></td><td title=\"Index: [12, 14]&#10;Color: (245, 245, 245)\" style=\"width: 30px; height: 30px;background-color: rgb(245, 245, 245);\"></td><td title=\"Index: [12, 15]&#10;Color: (0, 0, 0)\" style=\"width: 30px; height: 30px;background-color: rgb(0, 0, 0);\"></td><td title=\"Index: [12, 16]&#10;Color: (0, 0, 0)\" style=\"width: 30px; height: 30px;background-color: rgb(0, 0, 0);\"></td><td title=\"Index: [12, 17]&#10;Color: (245, 245, 245)\" style=\"width: 30px; height: 30px;background-color: rgb(245, 245, 245);\"></td><td title=\"Index: [12, 18]&#10;Color: (0, 0, 0)\" style=\"width: 30px; height: 30px;background-color: rgb(0, 0, 0);\"></td><td title=\"Index: [12, 19]&#10;Color: (0, 0, 0)\" style=\"width: 30px; height: 30px;background-color: rgb(0, 0, 0);\"></td></tr><tr><td title=\"Index: [13, 0]&#10;Color: (245, 245, 245)\" style=\"width: 30px; height: 30px;background-color: rgb(245, 245, 245);\"></td><td title=\"Index: [13, 1]&#10;Color: (0, 0, 0)\" style=\"width: 30px; height: 30px;background-color: rgb(0, 0, 0);\"></td><td title=\"Index: [13, 2]&#10;Color: (245, 245, 245)\" style=\"width: 30px; height: 30px;background-color: rgb(245, 245, 245);\"></td><td title=\"Index: [13, 3]&#10;Color: (0, 0, 0)\" style=\"width: 30px; height: 30px;background-color: rgb(0, 0, 0);\"></td><td title=\"Index: [13, 4]&#10;Color: (245, 245, 245)\" style=\"width: 30px; height: 30px;background-color: rgb(245, 245, 245);\"></td><td title=\"Index: [13, 5]&#10;Color: (0, 0, 0)\" style=\"width: 30px; height: 30px;background-color: rgb(0, 0, 0);\"></td><td title=\"Index: [13, 6]&#10;Color: (0, 0, 0)\" style=\"width: 30px; height: 30px;background-color: rgb(0, 0, 0);\"></td><td title=\"Index: [13, 7]&#10;Color: (245, 245, 245)\" style=\"width: 30px; height: 30px;background-color: rgb(245, 245, 245);\"></td><td title=\"Index: [13, 8]&#10;Color: (245, 245, 245)\" style=\"width: 30px; height: 30px;background-color: rgb(245, 245, 245);\"></td><td title=\"Index: [13, 9]&#10;Color: (245, 245, 245)\" style=\"width: 30px; height: 30px;background-color: rgb(245, 245, 245);\"></td><td title=\"Index: [13, 10]&#10;Color: (0, 0, 0)\" style=\"width: 30px; height: 30px;background-color: rgb(0, 0, 0);\"></td><td title=\"Index: [13, 11]&#10;Color: (0, 0, 0)\" style=\"width: 30px; height: 30px;background-color: rgb(0, 0, 0);\"></td><td title=\"Index: [13, 12]&#10;Color: (245, 245, 245)\" style=\"width: 30px; height: 30px;background-color: rgb(245, 245, 245);\"></td><td title=\"Index: [13, 13]&#10;Color: (0, 0, 0)\" style=\"width: 30px; height: 30px;background-color: rgb(0, 0, 0);\"></td><td title=\"Index: [13, 14]&#10;Color: (0, 0, 0)\" style=\"width: 30px; height: 30px;background-color: rgb(0, 0, 0);\"></td><td title=\"Index: [13, 15]&#10;Color: (245, 245, 245)\" style=\"width: 30px; height: 30px;background-color: rgb(245, 245, 245);\"></td><td title=\"Index: [13, 16]&#10;Color: (245, 245, 245)\" style=\"width: 30px; height: 30px;background-color: rgb(245, 245, 245);\"></td><td title=\"Index: [13, 17]&#10;Color: (0, 0, 0)\" style=\"width: 30px; height: 30px;background-color: rgb(0, 0, 0);\"></td><td title=\"Index: [13, 18]&#10;Color: (0, 0, 0)\" style=\"width: 30px; height: 30px;background-color: rgb(0, 0, 0);\"></td><td title=\"Index: [13, 19]&#10;Color: (245, 245, 245)\" style=\"width: 30px; height: 30px;background-color: rgb(245, 245, 245);\"></td></tr><tr><td title=\"Index: [14, 0]&#10;Color: (245, 245, 245)\" style=\"width: 30px; height: 30px;background-color: rgb(245, 245, 245);\"></td><td title=\"Index: [14, 1]&#10;Color: (0, 0, 0)\" style=\"width: 30px; height: 30px;background-color: rgb(0, 0, 0);\"></td><td title=\"Index: [14, 2]&#10;Color: (0, 0, 0)\" style=\"width: 30px; height: 30px;background-color: rgb(0, 0, 0);\"></td><td title=\"Index: [14, 3]&#10;Color: (0, 0, 0)\" style=\"width: 30px; height: 30px;background-color: rgb(0, 0, 0);\"></td><td title=\"Index: [14, 4]&#10;Color: (245, 245, 245)\" style=\"width: 30px; height: 30px;background-color: rgb(245, 245, 245);\"></td><td title=\"Index: [14, 5]&#10;Color: (0, 0, 0)\" style=\"width: 30px; height: 30px;background-color: rgb(0, 0, 0);\"></td><td title=\"Index: [14, 6]&#10;Color: (0, 0, 0)\" style=\"width: 30px; height: 30px;background-color: rgb(0, 0, 0);\"></td><td title=\"Index: [14, 7]&#10;Color: (0, 0, 0)\" style=\"width: 30px; height: 30px;background-color: rgb(0, 0, 0);\"></td><td title=\"Index: [14, 8]&#10;Color: (0, 0, 0)\" style=\"width: 30px; height: 30px;background-color: rgb(0, 0, 0);\"></td><td title=\"Index: [14, 9]&#10;Color: (245, 245, 245)\" style=\"width: 30px; height: 30px;background-color: rgb(245, 245, 245);\"></td><td title=\"Index: [14, 10]&#10;Color: (245, 245, 245)\" style=\"width: 30px; height: 30px;background-color: rgb(245, 245, 245);\"></td><td title=\"Index: [14, 11]&#10;Color: (0, 0, 0)\" style=\"width: 30px; height: 30px;background-color: rgb(0, 0, 0);\"></td><td title=\"Index: [14, 12]&#10;Color: (0, 0, 0)\" style=\"width: 30px; height: 30px;background-color: rgb(0, 0, 0);\"></td><td title=\"Index: [14, 13]&#10;Color: (0, 0, 0)\" style=\"width: 30px; height: 30px;background-color: rgb(0, 0, 0);\"></td><td title=\"Index: [14, 14]&#10;Color: (0, 0, 0)\" style=\"width: 30px; height: 30px;background-color: rgb(0, 0, 0);\"></td><td title=\"Index: [14, 15]&#10;Color: (0, 0, 0)\" style=\"width: 30px; height: 30px;background-color: rgb(0, 0, 0);\"></td><td title=\"Index: [14, 16]&#10;Color: (245, 245, 245)\" style=\"width: 30px; height: 30px;background-color: rgb(245, 245, 245);\"></td><td title=\"Index: [14, 17]&#10;Color: (0, 0, 0)\" style=\"width: 30px; height: 30px;background-color: rgb(0, 0, 0);\"></td><td title=\"Index: [14, 18]&#10;Color: (245, 245, 245)\" style=\"width: 30px; height: 30px;background-color: rgb(245, 245, 245);\"></td><td title=\"Index: [14, 19]&#10;Color: (0, 0, 0)\" style=\"width: 30px; height: 30px;background-color: rgb(0, 0, 0);\"></td></tr><tr><td title=\"Index: [15, 0]&#10;Color: (0, 0, 0)\" style=\"width: 30px; height: 30px;background-color: rgb(0, 0, 0);\"></td><td title=\"Index: [15, 1]&#10;Color: (0, 0, 0)\" style=\"width: 30px; height: 30px;background-color: rgb(0, 0, 0);\"></td><td title=\"Index: [15, 2]&#10;Color: (0, 0, 0)\" style=\"width: 30px; height: 30px;background-color: rgb(0, 0, 0);\"></td><td title=\"Index: [15, 3]&#10;Color: (0, 0, 0)\" style=\"width: 30px; height: 30px;background-color: rgb(0, 0, 0);\"></td><td title=\"Index: [15, 4]&#10;Color: (0, 0, 0)\" style=\"width: 30px; height: 30px;background-color: rgb(0, 0, 0);\"></td><td title=\"Index: [15, 5]&#10;Color: (245, 245, 245)\" style=\"width: 30px; height: 30px;background-color: rgb(245, 245, 245);\"></td><td title=\"Index: [15, 6]&#10;Color: (245, 245, 245)\" style=\"width: 30px; height: 30px;background-color: rgb(245, 245, 245);\"></td><td title=\"Index: [15, 7]&#10;Color: (245, 245, 245)\" style=\"width: 30px; height: 30px;background-color: rgb(245, 245, 245);\"></td><td title=\"Index: [15, 8]&#10;Color: (0, 0, 0)\" style=\"width: 30px; height: 30px;background-color: rgb(0, 0, 0);\"></td><td title=\"Index: [15, 9]&#10;Color: (0, 0, 0)\" style=\"width: 30px; height: 30px;background-color: rgb(0, 0, 0);\"></td><td title=\"Index: [15, 10]&#10;Color: (245, 245, 245)\" style=\"width: 30px; height: 30px;background-color: rgb(245, 245, 245);\"></td><td title=\"Index: [15, 11]&#10;Color: (245, 245, 245)\" style=\"width: 30px; height: 30px;background-color: rgb(245, 245, 245);\"></td><td title=\"Index: [15, 12]&#10;Color: (245, 245, 245)\" style=\"width: 30px; height: 30px;background-color: rgb(245, 245, 245);\"></td><td title=\"Index: [15, 13]&#10;Color: (245, 245, 245)\" style=\"width: 30px; height: 30px;background-color: rgb(245, 245, 245);\"></td><td title=\"Index: [15, 14]&#10;Color: (245, 245, 245)\" style=\"width: 30px; height: 30px;background-color: rgb(245, 245, 245);\"></td><td title=\"Index: [15, 15]&#10;Color: (0, 0, 0)\" style=\"width: 30px; height: 30px;background-color: rgb(0, 0, 0);\"></td><td title=\"Index: [15, 16]&#10;Color: (245, 245, 245)\" style=\"width: 30px; height: 30px;background-color: rgb(245, 245, 245);\"></td><td title=\"Index: [15, 17]&#10;Color: (245, 245, 245)\" style=\"width: 30px; height: 30px;background-color: rgb(245, 245, 245);\"></td><td title=\"Index: [15, 18]&#10;Color: (0, 0, 0)\" style=\"width: 30px; height: 30px;background-color: rgb(0, 0, 0);\"></td><td title=\"Index: [15, 19]&#10;Color: (245, 245, 245)\" style=\"width: 30px; height: 30px;background-color: rgb(245, 245, 245);\"></td></tr><tr><td title=\"Index: [16, 0]&#10;Color: (245, 245, 245)\" style=\"width: 30px; height: 30px;background-color: rgb(245, 245, 245);\"></td><td title=\"Index: [16, 1]&#10;Color: (0, 0, 0)\" style=\"width: 30px; height: 30px;background-color: rgb(0, 0, 0);\"></td><td title=\"Index: [16, 2]&#10;Color: (0, 0, 0)\" style=\"width: 30px; height: 30px;background-color: rgb(0, 0, 0);\"></td><td title=\"Index: [16, 3]&#10;Color: (0, 0, 0)\" style=\"width: 30px; height: 30px;background-color: rgb(0, 0, 0);\"></td><td title=\"Index: [16, 4]&#10;Color: (245, 245, 245)\" style=\"width: 30px; height: 30px;background-color: rgb(245, 245, 245);\"></td><td title=\"Index: [16, 5]&#10;Color: (0, 0, 0)\" style=\"width: 30px; height: 30px;background-color: rgb(0, 0, 0);\"></td><td title=\"Index: [16, 6]&#10;Color: (245, 245, 245)\" style=\"width: 30px; height: 30px;background-color: rgb(245, 245, 245);\"></td><td title=\"Index: [16, 7]&#10;Color: (245, 245, 245)\" style=\"width: 30px; height: 30px;background-color: rgb(245, 245, 245);\"></td><td title=\"Index: [16, 8]&#10;Color: (0, 0, 0)\" style=\"width: 30px; height: 30px;background-color: rgb(0, 0, 0);\"></td><td title=\"Index: [16, 9]&#10;Color: (0, 0, 0)\" style=\"width: 30px; height: 30px;background-color: rgb(0, 0, 0);\"></td><td title=\"Index: [16, 10]&#10;Color: (0, 0, 0)\" style=\"width: 30px; height: 30px;background-color: rgb(0, 0, 0);\"></td><td title=\"Index: [16, 11]&#10;Color: (0, 0, 0)\" style=\"width: 30px; height: 30px;background-color: rgb(0, 0, 0);\"></td><td title=\"Index: [16, 12]&#10;Color: (0, 0, 0)\" style=\"width: 30px; height: 30px;background-color: rgb(0, 0, 0);\"></td><td title=\"Index: [16, 13]&#10;Color: (245, 245, 245)\" style=\"width: 30px; height: 30px;background-color: rgb(245, 245, 245);\"></td><td title=\"Index: [16, 14]&#10;Color: (0, 0, 0)\" style=\"width: 30px; height: 30px;background-color: rgb(0, 0, 0);\"></td><td title=\"Index: [16, 15]&#10;Color: (245, 245, 245)\" style=\"width: 30px; height: 30px;background-color: rgb(245, 245, 245);\"></td><td title=\"Index: [16, 16]&#10;Color: (0, 0, 0)\" style=\"width: 30px; height: 30px;background-color: rgb(0, 0, 0);\"></td><td title=\"Index: [16, 17]&#10;Color: (0, 0, 0)\" style=\"width: 30px; height: 30px;background-color: rgb(0, 0, 0);\"></td><td title=\"Index: [16, 18]&#10;Color: (0, 0, 0)\" style=\"width: 30px; height: 30px;background-color: rgb(0, 0, 0);\"></td><td title=\"Index: [16, 19]&#10;Color: (245, 245, 245)\" style=\"width: 30px; height: 30px;background-color: rgb(245, 245, 245);\"></td></tr><tr><td title=\"Index: [17, 0]&#10;Color: (245, 245, 245)\" style=\"width: 30px; height: 30px;background-color: rgb(245, 245, 245);\"></td><td title=\"Index: [17, 1]&#10;Color: (0, 0, 0)\" style=\"width: 30px; height: 30px;background-color: rgb(0, 0, 0);\"></td><td title=\"Index: [17, 2]&#10;Color: (0, 0, 0)\" style=\"width: 30px; height: 30px;background-color: rgb(0, 0, 0);\"></td><td title=\"Index: [17, 3]&#10;Color: (245, 245, 245)\" style=\"width: 30px; height: 30px;background-color: rgb(245, 245, 245);\"></td><td title=\"Index: [17, 4]&#10;Color: (0, 0, 0)\" style=\"width: 30px; height: 30px;background-color: rgb(0, 0, 0);\"></td><td title=\"Index: [17, 5]&#10;Color: (0, 0, 0)\" style=\"width: 30px; height: 30px;background-color: rgb(0, 0, 0);\"></td><td title=\"Index: [17, 6]&#10;Color: (245, 245, 245)\" style=\"width: 30px; height: 30px;background-color: rgb(245, 245, 245);\"></td><td title=\"Index: [17, 7]&#10;Color: (0, 0, 0)\" style=\"width: 30px; height: 30px;background-color: rgb(0, 0, 0);\"></td><td title=\"Index: [17, 8]&#10;Color: (0, 0, 0)\" style=\"width: 30px; height: 30px;background-color: rgb(0, 0, 0);\"></td><td title=\"Index: [17, 9]&#10;Color: (245, 245, 245)\" style=\"width: 30px; height: 30px;background-color: rgb(245, 245, 245);\"></td><td title=\"Index: [17, 10]&#10;Color: (0, 0, 0)\" style=\"width: 30px; height: 30px;background-color: rgb(0, 0, 0);\"></td><td title=\"Index: [17, 11]&#10;Color: (0, 0, 0)\" style=\"width: 30px; height: 30px;background-color: rgb(0, 0, 0);\"></td><td title=\"Index: [17, 12]&#10;Color: (0, 0, 0)\" style=\"width: 30px; height: 30px;background-color: rgb(0, 0, 0);\"></td><td title=\"Index: [17, 13]&#10;Color: (245, 245, 245)\" style=\"width: 30px; height: 30px;background-color: rgb(245, 245, 245);\"></td><td title=\"Index: [17, 14]&#10;Color: (0, 0, 0)\" style=\"width: 30px; height: 30px;background-color: rgb(0, 0, 0);\"></td><td title=\"Index: [17, 15]&#10;Color: (0, 0, 0)\" style=\"width: 30px; height: 30px;background-color: rgb(0, 0, 0);\"></td><td title=\"Index: [17, 16]&#10;Color: (245, 245, 245)\" style=\"width: 30px; height: 30px;background-color: rgb(245, 245, 245);\"></td><td title=\"Index: [17, 17]&#10;Color: (245, 245, 245)\" style=\"width: 30px; height: 30px;background-color: rgb(245, 245, 245);\"></td><td title=\"Index: [17, 18]&#10;Color: (245, 245, 245)\" style=\"width: 30px; height: 30px;background-color: rgb(245, 245, 245);\"></td><td title=\"Index: [17, 19]&#10;Color: (245, 245, 245)\" style=\"width: 30px; height: 30px;background-color: rgb(245, 245, 245);\"></td></tr><tr><td title=\"Index: [18, 0]&#10;Color: (0, 0, 0)\" style=\"width: 30px; height: 30px;background-color: rgb(0, 0, 0);\"></td><td title=\"Index: [18, 1]&#10;Color: (0, 0, 0)\" style=\"width: 30px; height: 30px;background-color: rgb(0, 0, 0);\"></td><td title=\"Index: [18, 2]&#10;Color: (0, 0, 0)\" style=\"width: 30px; height: 30px;background-color: rgb(0, 0, 0);\"></td><td title=\"Index: [18, 3]&#10;Color: (245, 245, 245)\" style=\"width: 30px; height: 30px;background-color: rgb(245, 245, 245);\"></td><td title=\"Index: [18, 4]&#10;Color: (245, 245, 245)\" style=\"width: 30px; height: 30px;background-color: rgb(245, 245, 245);\"></td><td title=\"Index: [18, 5]&#10;Color: (0, 0, 0)\" style=\"width: 30px; height: 30px;background-color: rgb(0, 0, 0);\"></td><td title=\"Index: [18, 6]&#10;Color: (245, 245, 245)\" style=\"width: 30px; height: 30px;background-color: rgb(245, 245, 245);\"></td><td title=\"Index: [18, 7]&#10;Color: (0, 0, 0)\" style=\"width: 30px; height: 30px;background-color: rgb(0, 0, 0);\"></td><td title=\"Index: [18, 8]&#10;Color: (245, 245, 245)\" style=\"width: 30px; height: 30px;background-color: rgb(245, 245, 245);\"></td><td title=\"Index: [18, 9]&#10;Color: (245, 245, 245)\" style=\"width: 30px; height: 30px;background-color: rgb(245, 245, 245);\"></td><td title=\"Index: [18, 10]&#10;Color: (245, 245, 245)\" style=\"width: 30px; height: 30px;background-color: rgb(245, 245, 245);\"></td><td title=\"Index: [18, 11]&#10;Color: (0, 0, 0)\" style=\"width: 30px; height: 30px;background-color: rgb(0, 0, 0);\"></td><td title=\"Index: [18, 12]&#10;Color: (245, 245, 245)\" style=\"width: 30px; height: 30px;background-color: rgb(245, 245, 245);\"></td><td title=\"Index: [18, 13]&#10;Color: (245, 245, 245)\" style=\"width: 30px; height: 30px;background-color: rgb(245, 245, 245);\"></td><td title=\"Index: [18, 14]&#10;Color: (245, 245, 245)\" style=\"width: 30px; height: 30px;background-color: rgb(245, 245, 245);\"></td><td title=\"Index: [18, 15]&#10;Color: (245, 245, 245)\" style=\"width: 30px; height: 30px;background-color: rgb(245, 245, 245);\"></td><td title=\"Index: [18, 16]&#10;Color: (0, 0, 0)\" style=\"width: 30px; height: 30px;background-color: rgb(0, 0, 0);\"></td><td title=\"Index: [18, 17]&#10;Color: (0, 0, 0)\" style=\"width: 30px; height: 30px;background-color: rgb(0, 0, 0);\"></td><td title=\"Index: [18, 18]&#10;Color: (245, 245, 245)\" style=\"width: 30px; height: 30px;background-color: rgb(245, 245, 245);\"></td><td title=\"Index: [18, 19]&#10;Color: (245, 245, 245)\" style=\"width: 30px; height: 30px;background-color: rgb(245, 245, 245);\"></td></tr><tr><td title=\"Index: [19, 0]&#10;Color: (0, 0, 0)\" style=\"width: 30px; height: 30px;background-color: rgb(0, 0, 0);\"></td><td title=\"Index: [19, 1]&#10;Color: (0, 0, 0)\" style=\"width: 30px; height: 30px;background-color: rgb(0, 0, 0);\"></td><td title=\"Index: [19, 2]&#10;Color: (245, 245, 245)\" style=\"width: 30px; height: 30px;background-color: rgb(245, 245, 245);\"></td><td title=\"Index: [19, 3]&#10;Color: (0, 0, 0)\" style=\"width: 30px; height: 30px;background-color: rgb(0, 0, 0);\"></td><td title=\"Index: [19, 4]&#10;Color: (0, 0, 0)\" style=\"width: 30px; height: 30px;background-color: rgb(0, 0, 0);\"></td><td title=\"Index: [19, 5]&#10;Color: (245, 245, 245)\" style=\"width: 30px; height: 30px;background-color: rgb(245, 245, 245);\"></td><td title=\"Index: [19, 6]&#10;Color: (245, 245, 245)\" style=\"width: 30px; height: 30px;background-color: rgb(245, 245, 245);\"></td><td title=\"Index: [19, 7]&#10;Color: (0, 0, 0)\" style=\"width: 30px; height: 30px;background-color: rgb(0, 0, 0);\"></td><td title=\"Index: [19, 8]&#10;Color: (245, 245, 245)\" style=\"width: 30px; height: 30px;background-color: rgb(245, 245, 245);\"></td><td title=\"Index: [19, 9]&#10;Color: (0, 0, 0)\" style=\"width: 30px; height: 30px;background-color: rgb(0, 0, 0);\"></td><td title=\"Index: [19, 10]&#10;Color: (245, 245, 245)\" style=\"width: 30px; height: 30px;background-color: rgb(245, 245, 245);\"></td><td title=\"Index: [19, 11]&#10;Color: (0, 0, 0)\" style=\"width: 30px; height: 30px;background-color: rgb(0, 0, 0);\"></td><td title=\"Index: [19, 12]&#10;Color: (245, 245, 245)\" style=\"width: 30px; height: 30px;background-color: rgb(245, 245, 245);\"></td><td title=\"Index: [19, 13]&#10;Color: (245, 245, 245)\" style=\"width: 30px; height: 30px;background-color: rgb(245, 245, 245);\"></td><td title=\"Index: [19, 14]&#10;Color: (245, 245, 245)\" style=\"width: 30px; height: 30px;background-color: rgb(245, 245, 245);\"></td><td title=\"Index: [19, 15]&#10;Color: (245, 245, 245)\" style=\"width: 30px; height: 30px;background-color: rgb(245, 245, 245);\"></td><td title=\"Index: [19, 16]&#10;Color: (245, 245, 245)\" style=\"width: 30px; height: 30px;background-color: rgb(245, 245, 245);\"></td><td title=\"Index: [19, 17]&#10;Color: (245, 245, 245)\" style=\"width: 30px; height: 30px;background-color: rgb(245, 245, 245);\"></td><td title=\"Index: [19, 18]&#10;Color: (0, 0, 0)\" style=\"width: 30px; height: 30px;background-color: rgb(0, 0, 0);\"></td><td title=\"Index: [19, 19]&#10;Color: (245, 245, 245)\" style=\"width: 30px; height: 30px;background-color: rgb(245, 245, 245);\"></td></tr></tbody></table>"
      ],
      "text/plain": [
       "<IPython.core.display.HTML object>"
      ]
     },
     "metadata": {},
     "output_type": "display_data"
    }
   ],
   "source": [
    "world = generate_empty(20)\n",
    "\n",
    "for i in range(1):\n",
    "    for x in range(len(world)) :\n",
    "        for y in range(len(world)) :\n",
    "            analyse_neighbor(world, (x,y))\n",
    "            set_biome(world, (x,y))\n",
    "\n",
    "    world_to_grid(world)\n",
    "    time.sleep(0.8)\n",
    "    "
   ]
  },
  {
   "cell_type": "code",
   "execution_count": null,
   "metadata": {},
   "outputs": [],
   "source": []
  }
 ],
 "metadata": {
  "kernelspec": {
   "display_name": ".venv",
   "language": "python",
   "name": "python3"
  },
  "language_info": {
   "codemirror_mode": {
    "name": "ipython",
    "version": 3
   },
   "file_extension": ".py",
   "mimetype": "text/x-python",
   "name": "python",
   "nbconvert_exporter": "python",
   "pygments_lexer": "ipython3",
   "version": "3.10.4"
  },
  "orig_nbformat": 4,
  "vscode": {
   "interpreter": {
    "hash": "8c0e28b4584dbd74879fb7b563bb1153ad5c9cbd08080512edb6c05e5244a9c9"
   }
  }
 },
 "nbformat": 4,
 "nbformat_minor": 2
}
